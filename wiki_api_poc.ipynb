{
 "cells": [
  {
   "cell_type": "markdown",
   "metadata": {},
   "source": [
    "# Coletando revisões da API da Wikipédia\n",
    "\n",
    "A wikipédia disponibiliza algumas formas de coletar seus dados. \n",
    "Pode-se brincar bastante com essa API por meio da interface https://meta.wikimedia.org/wiki/Special:ApiSandbox.\n",
    "para a realização destes exemplos os parâmetros foram escolhidos nesse sandbox e depois passados para cá.\n",
    "\n",
    "Os artigos utilizados como exemplo fazem parte do dataset da dissertação do Professor Daniel Hassan."
   ]
  },
  {
   "cell_type": "code",
   "execution_count": 2,
   "metadata": {},
   "outputs": [
    {
     "data": {
      "text/plain": [
       "array([['Casino Royale (2006 film)'],\n",
       "       ['Procellariidae'],\n",
       "       ['Kakapo'],\n",
       "       ['2005 NFL Draft'],\n",
       "       ['Danish football champions']], dtype=object)"
      ]
     },
     "execution_count": 2,
     "metadata": {},
     "output_type": "execute_result"
    }
   ],
   "source": [
    "import pandas as pd\n",
    "\n",
    "dataset = pd.read_csv('wikipedia_dataset_hasan/wikipedia_old.csv')\n",
    "titles = pd.DataFrame(dataset, columns = ['page_title']).head(5).values\n",
    "titles"
   ]
  },
  {
   "cell_type": "markdown",
   "metadata": {},
   "source": [
    "Abaixo um exemplo de uso da API da wikipédia. O paramêtro \"format\" como json faz com que o retorno venha no formato de dicionário em python, ao invés de xml ou html, que é mais fácil de ser manipulado."
   ]
  },
  {
   "cell_type": "code",
   "execution_count": 119,
   "metadata": {},
   "outputs": [
    {
     "data": {
      "text/plain": [
       "{'batchcomplete': True,\n",
       " 'query': {'pages': [{'pageid': 40275401,\n",
       "    'ns': 0,\n",
       "    'title': \"Prostitution in the People's Republic of China\"}]}}"
      ]
     },
     "execution_count": 119,
     "metadata": {},
     "output_type": "execute_result"
    }
   ],
   "source": [
    "import requests\n",
    "\n",
    "S = requests.Session()\n",
    "URL = \"https://en.wikipedia.org/w/api.php\"\n",
    "#title = titles[0]\n",
    "\n",
    "params = {\n",
    "        \"action\": \"query\",\n",
    "        \"prop\": \"revisions\",\n",
    "        \"titles\": \"Prostitution in the People's Republic of China\",\n",
    "        \"rvprop\": \"timestamp|user|comment|content|ids\",\n",
    "        \"rvslots\": \"main\",\n",
    "        \"formatversion\": \"2\",\n",
    "        \"format\": \"json\",\n",
    "        \"rvlimit\": 1,\n",
    "        \"rvstart\": '2008-12-19T16:51:08Z',\n",
    "        \"rvdir\": \"older\",\n",
    "    }\n",
    "\n",
    "response = S.get(url=URL, params=params).json()\n",
    "response"
   ]
  },
  {
   "cell_type": "markdown",
   "metadata": {},
   "source": [
    "Os valores da _response_ podem ser facilmente acessados como um dicionário em python, por meio da sintaxe dict[chave]."
   ]
  },
  {
   "cell_type": "code",
   "execution_count": 92,
   "metadata": {},
   "outputs": [
    {
     "name": "stdout",
     "output_type": "stream",
     "text": [
      "{'normalized': [{'from': 'Wikipedia:Featured_articles', 'to': 'Wikipedia:Featured articles'}], 'pages': {'5921878': {'pageid': 5921878, 'ns': 4, 'title': 'Wikipedia:Featured articles', 'links': [{'ns': 0, 'title': '1924 Rose Bowl'}, {'ns': 0, 'title': '1926 World Series'}, {'ns': 0, 'title': '1927 Chicago mayoral election'}, {'ns': 0, 'title': '1928 Okeechobee hurricane'}, {'ns': 0, 'title': '1930 FIFA World Cup'}, {'ns': 0, 'title': '1933 Atlantic hurricane season'}, {'ns': 0, 'title': '1937 Fox vault fire'}, {'ns': 0, 'title': \"1937 Social Credit backbenchers' revolt\"}, {'ns': 0, 'title': '1940 Brocklesby mid-air collision'}, {'ns': 0, 'title': '1941 Atlantic hurricane season'}]}}}\n"
     ]
    }
   ],
   "source": [
    "query = response[\"query\"]\n",
    "print(query)"
   ]
  },
  {
   "cell_type": "code",
   "execution_count": 93,
   "metadata": {},
   "outputs": [
    {
     "name": "stdout",
     "output_type": "stream",
     "text": [
      "{'5921878': {'pageid': 5921878, 'ns': 4, 'title': 'Wikipedia:Featured articles', 'links': [{'ns': 0, 'title': '1924 Rose Bowl'}, {'ns': 0, 'title': '1926 World Series'}, {'ns': 0, 'title': '1927 Chicago mayoral election'}, {'ns': 0, 'title': '1928 Okeechobee hurricane'}, {'ns': 0, 'title': '1930 FIFA World Cup'}, {'ns': 0, 'title': '1933 Atlantic hurricane season'}, {'ns': 0, 'title': '1937 Fox vault fire'}, {'ns': 0, 'title': \"1937 Social Credit backbenchers' revolt\"}, {'ns': 0, 'title': '1940 Brocklesby mid-air collision'}, {'ns': 0, 'title': '1941 Atlantic hurricane season'}]}}\n"
     ]
    }
   ],
   "source": [
    "pages = query[\"pages\"] # or response[\"query\"][\"pages\"]\n",
    "print(pages)"
   ]
  },
  {
   "cell_type": "code",
   "execution_count": 96,
   "metadata": {},
   "outputs": [
    {
     "name": "stdout",
     "output_type": "stream",
     "text": [
      "[{'pageid': 5921878, 'ns': 4, 'title': 'Wikipedia:Featured articles', 'links': [{'ns': 0, 'title': '1924 Rose Bowl'}, {'ns': 0, 'title': '1926 World Series'}, {'ns': 0, 'title': '1927 Chicago mayoral election'}, {'ns': 0, 'title': '1928 Okeechobee hurricane'}, {'ns': 0, 'title': '1930 FIFA World Cup'}, {'ns': 0, 'title': '1933 Atlantic hurricane season'}, {'ns': 0, 'title': '1937 Fox vault fire'}, {'ns': 0, 'title': \"1937 Social Credit backbenchers' revolt\"}, {'ns': 0, 'title': '1940 Brocklesby mid-air collision'}, {'ns': 0, 'title': '1941 Atlantic hurricane season'}]}]\n",
      "Wikipedia:Featured articles\n",
      "[{'ns': 0, 'title': '1924 Rose Bowl'}, {'ns': 0, 'title': '1926 World Series'}, {'ns': 0, 'title': '1927 Chicago mayoral election'}, {'ns': 0, 'title': '1928 Okeechobee hurricane'}, {'ns': 0, 'title': '1930 FIFA World Cup'}, {'ns': 0, 'title': '1933 Atlantic hurricane season'}, {'ns': 0, 'title': '1937 Fox vault fire'}, {'ns': 0, 'title': \"1937 Social Credit backbenchers' revolt\"}, {'ns': 0, 'title': '1940 Brocklesby mid-air collision'}, {'ns': 0, 'title': '1941 Atlantic hurricane season'}]\n"
     ]
    }
   ],
   "source": [
    "pages_list = list(pages.values()) # or list(response[\"query\"][\"pages\"].values()) \n",
    "print(pages_list)\n",
    "\n",
    "first_page_title = pages_list[0][\"title\"] # or list(response[\"query\"][\"pages\"].values())[0][\"title\"]\n",
    "print(first_page_title)"
   ]
  },
  {
   "cell_type": "code",
   "execution_count": 118,
   "metadata": {},
   "outputs": [
    {
     "data": {
      "text/plain": [
       "[{'title': 'Wikipedia:Featured articles',\n",
       "  'links': ['1924 Rose Bowl',\n",
       "   '1926 World Series',\n",
       "   '1927 Chicago mayoral election',\n",
       "   '1928 Okeechobee hurricane',\n",
       "   '1930 FIFA World Cup',\n",
       "   '1933 Atlantic hurricane season',\n",
       "   '1937 Fox vault fire',\n",
       "   \"1937 Social Credit backbenchers' revolt\",\n",
       "   '1940 Brocklesby mid-air collision',\n",
       "   '1941 Atlantic hurricane season']}]"
      ]
     },
     "execution_count": 118,
     "metadata": {},
     "output_type": "execute_result"
    }
   ],
   "source": [
    "def parse_links(response):\n",
    "    result = []\n",
    "    for page in list(response[\"query\"][\"pages\"].values()):\n",
    "        r = {\n",
    "            \"title\": page[\"title\"],\n",
    "            \"links\": [x[\"title\"] for x in page[\"links\"]]\n",
    "        }\n",
    "        result.append(r)\n",
    "    return result\n",
    "\n",
    "parse_links(response)"
   ]
  },
  {
   "cell_type": "markdown",
   "metadata": {},
   "source": [
    "É possível coletar as revisões, dentre outras informações. A [documentação](https://en.wikipedia.org/w/api.php) pode ser lida em  \n",
    "\n",
    "[outra API](https://en.wikipedia.org/api/rest_v1/#/) que ainda não foi explorada."
   ]
  },
  {
   "cell_type": "code",
   "execution_count": 1,
   "metadata": {
    "scrolled": false
   },
   "outputs": [
    {
     "name": "stdout",
     "output_type": "stream",
     "text": [
      "['2017-10-01T00:00:00Z', '2017-09-01T00:00:00Z', '2017-08-01T00:00:00Z']\n",
      "{'error': {'code': 'badtimestamp_rvend', 'info': 'Invalid value \"2017-8-01T00:00:00Z\" for timestamp parameter \"rvend\".', '*': 'See https://en.wikipedia.org/w/api.php for API usage. Subscribe to the mediawiki-api-announce mailing list at &lt;https://lists.wikimedia.org/mailman/listinfo/mediawiki-api-announce&gt; for notice of API deprecations and breaking changes.'}, 'servedby': 'mw1287'}\n"
     ]
    },
    {
     "ename": "KeyError",
     "evalue": "'query'",
     "output_type": "error",
     "traceback": [
      "\u001b[0;31m---------------------------------------------------------------------------\u001b[0m",
      "\u001b[0;31mKeyError\u001b[0m                                  Traceback (most recent call last)",
      "\u001b[0;32m<ipython-input-1-ee9a5eeb5c07>\u001b[0m in \u001b[0;36m<module>\u001b[0;34m\u001b[0m\n\u001b[1;32m     11\u001b[0m \u001b[0mprint\u001b[0m\u001b[0;34m(\u001b[0m\u001b[0mresponse\u001b[0m\u001b[0;34m)\u001b[0m\u001b[0;34m\u001b[0m\u001b[0;34m\u001b[0m\u001b[0m\n\u001b[1;32m     12\u001b[0m \u001b[0;34m\u001b[0m\u001b[0m\n\u001b[0;32m---> 13\u001b[0;31m \u001b[0mrevisions_info\u001b[0m \u001b[0;34m=\u001b[0m \u001b[0mparse_revisions_info_monthly\u001b[0m\u001b[0;34m(\u001b[0m\u001b[0mresponse\u001b[0m\u001b[0;34m,\u001b[0m \u001b[0mdate_start\u001b[0m\u001b[0;34m,\u001b[0m \u001b[0mdate_end\u001b[0m\u001b[0;34m)\u001b[0m\u001b[0;34m\u001b[0m\u001b[0;34m\u001b[0m\u001b[0m\n\u001b[0m",
      "\u001b[0;32m~/Documents/tcc-web-crawler/poc_wikimedia_revision/wiki_revision_crawler.py\u001b[0m in \u001b[0;36mparse_revisions_info_monthly\u001b[0;34m(revisions_info_response, date_start, date_end)\u001b[0m\n\u001b[1;32m     85\u001b[0m         \u001b[0mnext_date\u001b[0m\u001b[0;34m:\u001b[0m \u001b[0mfirst\u001b[0m \u001b[0mdate\u001b[0m \u001b[0mwhich\u001b[0m \u001b[0mwas\u001b[0m \u001b[0;32mnot\u001b[0m \u001b[0mcontemplated\u001b[0m\u001b[0;34m\u001b[0m\u001b[0;34m\u001b[0m\u001b[0m\n\u001b[1;32m     86\u001b[0m     \"\"\"\n\u001b[0;32m---> 87\u001b[0;31m     \u001b[0mpage\u001b[0m \u001b[0;34m=\u001b[0m \u001b[0mlist\u001b[0m\u001b[0;34m(\u001b[0m\u001b[0mrevisions_info_response\u001b[0m\u001b[0;34m[\u001b[0m\u001b[0;34m\"query\"\u001b[0m\u001b[0;34m]\u001b[0m\u001b[0;34m[\u001b[0m\u001b[0;34m\"pages\"\u001b[0m\u001b[0;34m]\u001b[0m\u001b[0;34m.\u001b[0m\u001b[0mvalues\u001b[0m\u001b[0;34m(\u001b[0m\u001b[0;34m)\u001b[0m\u001b[0;34m)\u001b[0m\u001b[0;34m[\u001b[0m\u001b[0;36m0\u001b[0m\u001b[0;34m]\u001b[0m\u001b[0;34m\u001b[0m\u001b[0;34m\u001b[0m\u001b[0m\n\u001b[0m\u001b[1;32m     88\u001b[0m     \u001b[0mrevisions\u001b[0m \u001b[0;34m=\u001b[0m \u001b[0mpage\u001b[0m\u001b[0;34m[\u001b[0m\u001b[0;34m\"revisions\"\u001b[0m\u001b[0;34m]\u001b[0m\u001b[0;34m\u001b[0m\u001b[0;34m\u001b[0m\u001b[0m\n\u001b[1;32m     89\u001b[0m     \u001b[0mdates\u001b[0m \u001b[0;34m=\u001b[0m \u001b[0mdate_range_monthly\u001b[0m\u001b[0;34m(\u001b[0m\u001b[0mdate_end\u001b[0m\u001b[0;34m,\u001b[0m \u001b[0mdate_start\u001b[0m\u001b[0;34m)\u001b[0m\u001b[0;34m\u001b[0m\u001b[0;34m\u001b[0m\u001b[0m\n",
      "\u001b[0;31mKeyError\u001b[0m: 'query'"
     ]
    }
   ],
   "source": [
    "from wiki_revision_crawler import get_revisions_info, date_range_monthly, parse_revisions_info_monthly\n",
    "\n",
    "date_start = \"2017-10-01T00:00:00Z\"\n",
    "date_end = \"2017-8-01T00:00:00Z\"\n",
    " \n",
    "print(date_range_monthly(date_end, date_start))\n",
    "\n",
    "date_start = \"2006-01-03T00:00:00Z\"\n",
    "\n",
    "response = get_revisions_info(\"Dypsis onilahensis\", date_start, date_end)\n",
    "print(response)\n",
    "\n",
    "revisions_info = parse_revisions_info_monthly(response, date_start, date_end)\n"
   ]
  },
  {
   "cell_type": "code",
   "execution_count": 4,
   "metadata": {},
   "outputs": [
    {
     "data": {
      "text/plain": [
       "([{'access': '2019-07-01T00:00:00Z',\n",
       "   'revision': {'revid': 833068079,\n",
       "    'parentid': 825632911,\n",
       "    'user': 'Tom.Reding',\n",
       "    'timestamp': '2018-03-29T14:04:16Z',\n",
       "    'comment': '+[[:Category:Taxonomy articles created by Polbot\\u200e\\u200e]]; cleanup; [[WP:GenFixes]] on, using [[Project:AWB|AWB]]'}},\n",
       "  {'access': '2019-06-01T00:00:00Z',\n",
       "   'revision': {'revid': 833068079,\n",
       "    'parentid': 825632911,\n",
       "    'user': 'Tom.Reding',\n",
       "    'timestamp': '2018-03-29T14:04:16Z',\n",
       "    'comment': '+[[:Category:Taxonomy articles created by Polbot\\u200e\\u200e]]; cleanup; [[WP:GenFixes]] on, using [[Project:AWB|AWB]]'}},\n",
       "  {'access': '2019-05-01T00:00:00Z',\n",
       "   'revision': {'revid': 833068079,\n",
       "    'parentid': 825632911,\n",
       "    'user': 'Tom.Reding',\n",
       "    'timestamp': '2018-03-29T14:04:16Z',\n",
       "    'comment': '+[[:Category:Taxonomy articles created by Polbot\\u200e\\u200e]]; cleanup; [[WP:GenFixes]] on, using [[Project:AWB|AWB]]'}},\n",
       "  {'access': '2019-04-01T00:00:00Z',\n",
       "   'revision': {'revid': 833068079,\n",
       "    'parentid': 825632911,\n",
       "    'user': 'Tom.Reding',\n",
       "    'timestamp': '2018-03-29T14:04:16Z',\n",
       "    'comment': '+[[:Category:Taxonomy articles created by Polbot\\u200e\\u200e]]; cleanup; [[WP:GenFixes]] on, using [[Project:AWB|AWB]]'}},\n",
       "  {'access': '2019-03-01T00:00:00Z',\n",
       "   'revision': {'revid': 833068079,\n",
       "    'parentid': 825632911,\n",
       "    'user': 'Tom.Reding',\n",
       "    'timestamp': '2018-03-29T14:04:16Z',\n",
       "    'comment': '+[[:Category:Taxonomy articles created by Polbot\\u200e\\u200e]]; cleanup; [[WP:GenFixes]] on, using [[Project:AWB|AWB]]'}},\n",
       "  {'access': '2019-02-01T00:00:00Z',\n",
       "   'revision': {'revid': 833068079,\n",
       "    'parentid': 825632911,\n",
       "    'user': 'Tom.Reding',\n",
       "    'timestamp': '2018-03-29T14:04:16Z',\n",
       "    'comment': '+[[:Category:Taxonomy articles created by Polbot\\u200e\\u200e]]; cleanup; [[WP:GenFixes]] on, using [[Project:AWB|AWB]]'}},\n",
       "  {'access': '2019-01-01T00:00:00Z',\n",
       "   'revision': {'revid': 833068079,\n",
       "    'parentid': 825632911,\n",
       "    'user': 'Tom.Reding',\n",
       "    'timestamp': '2018-03-29T14:04:16Z',\n",
       "    'comment': '+[[:Category:Taxonomy articles created by Polbot\\u200e\\u200e]]; cleanup; [[WP:GenFixes]] on, using [[Project:AWB|AWB]]'}},\n",
       "  {'access': '2018-12-01T00:00:00Z',\n",
       "   'revision': {'revid': 833068079,\n",
       "    'parentid': 825632911,\n",
       "    'user': 'Tom.Reding',\n",
       "    'timestamp': '2018-03-29T14:04:16Z',\n",
       "    'comment': '+[[:Category:Taxonomy articles created by Polbot\\u200e\\u200e]]; cleanup; [[WP:GenFixes]] on, using [[Project:AWB|AWB]]'}},\n",
       "  {'access': '2018-11-01T00:00:00Z',\n",
       "   'revision': {'revid': 833068079,\n",
       "    'parentid': 825632911,\n",
       "    'user': 'Tom.Reding',\n",
       "    'timestamp': '2018-03-29T14:04:16Z',\n",
       "    'comment': '+[[:Category:Taxonomy articles created by Polbot\\u200e\\u200e]]; cleanup; [[WP:GenFixes]] on, using [[Project:AWB|AWB]]'}},\n",
       "  {'access': '2018-10-01T00:00:00Z',\n",
       "   'revision': {'revid': 833068079,\n",
       "    'parentid': 825632911,\n",
       "    'user': 'Tom.Reding',\n",
       "    'timestamp': '2018-03-29T14:04:16Z',\n",
       "    'comment': '+[[:Category:Taxonomy articles created by Polbot\\u200e\\u200e]]; cleanup; [[WP:GenFixes]] on, using [[Project:AWB|AWB]]'}},\n",
       "  {'access': '2018-09-01T00:00:00Z',\n",
       "   'revision': {'revid': 833068079,\n",
       "    'parentid': 825632911,\n",
       "    'user': 'Tom.Reding',\n",
       "    'timestamp': '2018-03-29T14:04:16Z',\n",
       "    'comment': '+[[:Category:Taxonomy articles created by Polbot\\u200e\\u200e]]; cleanup; [[WP:GenFixes]] on, using [[Project:AWB|AWB]]'}},\n",
       "  {'access': '2018-08-01T00:00:00Z',\n",
       "   'revision': {'revid': 833068079,\n",
       "    'parentid': 825632911,\n",
       "    'user': 'Tom.Reding',\n",
       "    'timestamp': '2018-03-29T14:04:16Z',\n",
       "    'comment': '+[[:Category:Taxonomy articles created by Polbot\\u200e\\u200e]]; cleanup; [[WP:GenFixes]] on, using [[Project:AWB|AWB]]'}},\n",
       "  {'access': '2018-07-01T00:00:00Z',\n",
       "   'revision': {'revid': 833068079,\n",
       "    'parentid': 825632911,\n",
       "    'user': 'Tom.Reding',\n",
       "    'timestamp': '2018-03-29T14:04:16Z',\n",
       "    'comment': '+[[:Category:Taxonomy articles created by Polbot\\u200e\\u200e]]; cleanup; [[WP:GenFixes]] on, using [[Project:AWB|AWB]]'}},\n",
       "  {'access': '2018-06-01T00:00:00Z',\n",
       "   'revision': {'revid': 833068079,\n",
       "    'parentid': 825632911,\n",
       "    'user': 'Tom.Reding',\n",
       "    'timestamp': '2018-03-29T14:04:16Z',\n",
       "    'comment': '+[[:Category:Taxonomy articles created by Polbot\\u200e\\u200e]]; cleanup; [[WP:GenFixes]] on, using [[Project:AWB|AWB]]'}},\n",
       "  {'access': '2018-05-01T00:00:00Z',\n",
       "   'revision': {'revid': 833068079,\n",
       "    'parentid': 825632911,\n",
       "    'user': 'Tom.Reding',\n",
       "    'timestamp': '2018-03-29T14:04:16Z',\n",
       "    'comment': '+[[:Category:Taxonomy articles created by Polbot\\u200e\\u200e]]; cleanup; [[WP:GenFixes]] on, using [[Project:AWB|AWB]]'}},\n",
       "  {'access': '2018-04-01T00:00:00Z',\n",
       "   'revision': {'revid': 833068079,\n",
       "    'parentid': 825632911,\n",
       "    'user': 'Tom.Reding',\n",
       "    'timestamp': '2018-03-29T14:04:16Z',\n",
       "    'comment': '+[[:Category:Taxonomy articles created by Polbot\\u200e\\u200e]]; cleanup; [[WP:GenFixes]] on, using [[Project:AWB|AWB]]'}},\n",
       "  {'access': '2018-03-01T00:00:00Z',\n",
       "   'revision': {'revid': 825632911,\n",
       "    'parentid': 809496473,\n",
       "    'user': 'Tom.Reding',\n",
       "    'timestamp': '2018-02-14T14:07:58Z',\n",
       "    'comment': '[[Template talk:Taxonbar#from1|Add from]]=[[d:Special:EntityPage/Q1935693|Q1935693]] to {{[[Template:Taxonbar|Taxonbar]]}}; [[WP:GenFixes]] on, using [[Project:AWB|AWB]]'}},\n",
       "  {'access': '2018-02-01T00:00:00Z',\n",
       "   'revision': {'revid': 809496473,\n",
       "    'parentid': 809457507,\n",
       "    'user': 'Tom.Reding',\n",
       "    'timestamp': '2017-11-09T14:12:51Z',\n",
       "    'comment': '/* top */Ref cleanup; [[WP:GenFixes]] on; using [[Project:AWB|AWB]]'}},\n",
       "  {'access': '2018-01-01T00:00:00Z',\n",
       "   'revision': {'revid': 809496473,\n",
       "    'parentid': 809457507,\n",
       "    'user': 'Tom.Reding',\n",
       "    'timestamp': '2017-11-09T14:12:51Z',\n",
       "    'comment': '/* top */Ref cleanup; [[WP:GenFixes]] on; using [[Project:AWB|AWB]]'}},\n",
       "  {'access': '2017-12-01T00:00:00Z',\n",
       "   'revision': {'revid': 809496473,\n",
       "    'parentid': 809457507,\n",
       "    'user': 'Tom.Reding',\n",
       "    'timestamp': '2017-11-09T14:12:51Z',\n",
       "    'comment': '/* top */Ref cleanup; [[WP:GenFixes]] on; using [[Project:AWB|AWB]]'}},\n",
       "  {'access': '2017-11-01T00:00:00Z',\n",
       "   'revision': {'revid': 807999009,\n",
       "    'parentid': 806557594,\n",
       "    'user': 'John of Reading',\n",
       "    'timestamp': '2017-10-31T08:06:18Z',\n",
       "    'comment': \"/* Habitat */Typo fixing, replaced: it's range → its range using [[Project:AWB|AWB]]\"}},\n",
       "  {'access': '2017-10-01T00:00:00Z',\n",
       "   'revision': {'revid': 800721465,\n",
       "    'parentid': 767734046,\n",
       "    'user': 'InternetArchiveBot',\n",
       "    'timestamp': '2017-09-15T08:00:24Z',\n",
       "    'comment': 'Rescuing 1 sources and tagging 0 as dead. #IABot (v1.5.2)'}}],\n",
       " False,\n",
       " '2017-09-01T00:00:00Z')"
      ]
     },
     "execution_count": 4,
     "metadata": {},
     "output_type": "execute_result"
    }
   ],
   "source": [
    "revisions_info"
   ]
  },
  {
   "cell_type": "code",
   "execution_count": null,
   "metadata": {},
   "outputs": [],
   "source": [
    "import datetime\n",
    "import dateutil.parser\n",
    "\n",
    "def parse_date(date):\n",
    "    \"\"\"Parse date from ISO 8601 format to datetime\n",
    " \n",
    "    Parameters:\n",
    "        date (str): date in the format ISO 8601: 2001-01-15T14:56:00Z\n",
    "        \n",
    "    Returns:\n",
    "        date (datetime): date parsed\n",
    "\n",
    "    \"\"\"\n",
    "    return dateutil.parser.parse(date)\n",
    "\n",
    "def format_date(date):\n",
    "    \"\"\"Format date ISO 8601 (i.e. 2001-01-15T14:56:00Z)\n",
    " \n",
    "    Parameters:\n",
    "        date (datetime): date\n",
    "        \n",
    "    Returns:\n",
    "        date (str): ISO 8601 formatted date\n",
    "    \n",
    "    \"\"\"\n",
    "    s = \"%Y-%m-%dT%H:%M:%SZ\"\n",
    "    return date.strftime(s)\n",
    "\n",
    "date_idx=0\n",
    "dates = pd.date_range(\"2017-01-03T01:32:59Z\",\"2017-04-03T01:32:59Z\", freq='MS').strftime(\"%Y-%m-%dT%H:%M:%SZ\").tolist()\n",
    "\n",
    "while date_idx < len(dates):\n",
    "    print(dates[date_idx])\n",
    "    date_idx += 1"
   ]
  },
  {
   "cell_type": "code",
   "execution_count": null,
   "metadata": {},
   "outputs": [],
   "source": [
    "from pandas.io.json import json_normalize\n",
    "\n",
    "#revisions = data[\"query\"][\"pages\"][page_id][\"revisions\"]\n",
    "#revisions = list(data[\"query\"][\"pages\"].values())[0][\"revisions\"]\n",
    "\n",
    "json_normalize(revisions_info)"
   ]
  },
  {
   "cell_type": "code",
   "execution_count": 33,
   "metadata": {
    "scrolled": false
   },
   "outputs": [],
   "source": [
    "import requests\n",
    "\n",
    "S = requests.Session()\n",
    "URL = \"https://en.wikipedia.org/w/api.php\"\n",
    "\n",
    "def get_revision(title, access_date):\n",
    "    # title = \"Procellariidae\"\n",
    "    # date = \"2017-04-03T01:32:59.000Z\"\n",
    "    params = {\n",
    "        \"action\": \"query\",\n",
    "        \"prop\": \"revisions\",\n",
    "        \"titles\": title,\n",
    "       # \"rvprop\": \"timestamp|user|comment|content|ids\",\n",
    "        \"rvprop\": \"content\",\n",
    "        \"rvslots\": \"main\",\n",
    "        \"formatversion\": \"2\",\n",
    "        \"format\": \"json\",\n",
    "        \"rvlimit\": 1,\n",
    "        \"rvstart\": access_date,\n",
    "        \"rvdir\": \"older\",\n",
    "    }\n",
    "\n",
    "    response = S.get(url=URL, params=params)\n",
    "    \n",
    "    return response.json()\n",
    "\n",
    "\n",
    "def parse_revision_response(response, date):\n",
    "    page = list(response[\"query\"][\"pages\"])[0]\n",
    "    revision = list(page[\"revisions\"])[0]\n",
    "   # return (page[\"pageid\"], page[\"title\"], revision[\"user\"], revision[\"timestamp\"], revision[\"comment\"], revision[\"slots\"][\"main\"][\"content\"])\n",
    "    return revision[\"slots\"][\"main\"][\"content\"]\n",
    "\n",
    "date = \"2009-01-03T00:00:00.000Z\"\n",
    "response = get_revision(\"Procellariidae\", date)\n",
    "conent = parse_revision_response(response, date)\n",
    "#category = parse_revision_category_content(response)\n",
    "# page = list(response[\"query\"][\"pages\"])[0]\n",
    "# revision = list(page[\"revisions\"])[0]\n",
    "# content = revision[\"slots\"][\"main\"][\"content\"]\n",
    "# content"
   ]
  },
  {
   "cell_type": "code",
   "execution_count": 27,
   "metadata": {},
   "outputs": [
    {
     "data": {
      "text/plain": [
       "{'batchcomplete': True,\n",
       " 'query': {'pages': [{'pageid': 59643877, 'ns': 0, 'title': 'Spoo'}]}}"
      ]
     },
     "execution_count": 27,
     "metadata": {},
     "output_type": "execute_result"
    }
   ],
   "source": [
    "def get_revision_info(title, access_date):\n",
    "    # title = \"Procellariidae\"\n",
    "    # date = \"2017-04-03T01:32:59.000Z\"\n",
    "    params = {\n",
    "        \"action\": \"query\",\n",
    "        \"prop\": \"revisions\",\n",
    "        \"titles\": title,\n",
    "        \"rvprop\": \"timestamp|user|comment|ids\",\n",
    "        \"rvslots\": \"main\",\n",
    "        \"formatversion\": \"2\",\n",
    "        \"format\": \"json\",\n",
    "        \"rvlimit\": 500,\n",
    "        \"rvstart\": access_date,\n",
    "        \"rvdir\": \"older\",\n",
    "              \n",
    "    }\n",
    "\n",
    "    response = S.get(url=URL, params=params)\n",
    "    \n",
    "    return response.json()\n",
    "title = 'Spoo'\n",
    "date_end = \"2009-01-03T00:00:00Z\"\n",
    "get_revision_info(title, date_end)"
   ]
  },
  {
   "cell_type": "code",
   "execution_count": 28,
   "metadata": {
    "scrolled": true
   },
   "outputs": [
    {
     "name": "stdout",
     "output_type": "stream",
     "text": [
      "{'batchcomplete': '', 'query': {'pages': {'59643877': {'pageid': 59643877, 'ns': 0, 'title': 'Spoo'}}}}\n",
      "{'batchcomplete': '', 'query': {'pages': {'4862862': {'pageid': 4862862, 'ns': 0, 'title': 'List of Danish football champions'}}}}\n"
     ]
    }
   ],
   "source": [
    "def get_page_redirect(title):\n",
    "    \"\"\" redirect page\n",
    "    \"\"\"\n",
    "    PARAMS = {\n",
    "        'action': \"query\",\n",
    "        'format': \"json\",\n",
    "        'titles': title,\n",
    "       # 'prop': \"redirects\"\n",
    "        'redirects' : 1,\n",
    "    }\n",
    "\n",
    "    R = S.get(url=URL, params=PARAMS)\n",
    "    DATA = R.json()\n",
    "    return DATA\n",
    "\n",
    "title = 'Spoo'\n",
    "print(get_page_redirect(title))\n",
    "\n",
    "# title = 'Variegated fairywren'\n",
    "# print(get_page_redirect(title))\n",
    "\n",
    "title = 'List of Danish football champions'\n",
    "print(get_page_redirect(title))"
   ]
  },
  {
   "cell_type": "code",
   "execution_count": 30,
   "metadata": {},
   "outputs": [
    {
     "data": {
      "text/plain": [
       "[('class=A|', '', 'A', '')]"
      ]
     },
     "execution_count": 30,
     "metadata": {},
     "output_type": "execute_result"
    }
   ],
   "source": [
    "import re\n",
    "result = re.findall('(class=(.+?)\\n|class=(.+?)\\||class=(.+?)})', \"dad{{class=A|sadad}}ad\")\n",
    "result\n",
    "#return result[0][1] if result[0][0][-1:] == '\\n' else result[0][2] if result[0][0][-1:] == '|' else result[0][3]\n"
   ]
  },
  {
   "cell_type": "code",
   "execution_count": 318,
   "metadata": {},
   "outputs": [
    {
     "data": {
      "text/plain": [
       "'GA|importance=Top|bc-current=yes|nested=yes'"
      ]
     },
     "execution_count": 318,
     "metadata": {},
     "output_type": "execute_result"
    }
   ],
   "source": [
    "def parse_revision_category_content(text):\n",
    "    result = re.findall('(class=(.+?)}|class=(.+?)\\||class=(.+?)\\n)', content)\n",
    "    return result[0][1] if result[0][0][-1:] == '}' else result[0][2] if result[0][0][-1:] == '|' else result[0][3]\n",
    "\n",
    "title = \"GNOME\"\n",
    "date = \"2007-01-03T00:00:00.000Z\"\n",
    "\n",
    "response = get_revision(f\"Talk:{title}\", date)\n",
    "content = parse_revision_response(response, date)\n",
    "parse_revision_category_content(content)"
   ]
  },
  {
   "cell_type": "code",
   "execution_count": 64,
   "metadata": {},
   "outputs": [
    {
     "data": {
      "text/plain": [
       "['The Lion King',\n",
       " 'Luther Burbank',\n",
       " 'Avatar: The Last Airbender',\n",
       " 'Freak the Sheep Vol. 2',\n",
       " 'Heroes of Wrestling',\n",
       " 'Lady',\n",
       " 'New York State Route 345',\n",
       " 'Universe of Kingdom Hearts',\n",
       " 'Helpless Automaton',\n",
       " 'Samuel G. Arnold']"
      ]
     },
     "execution_count": 64,
     "metadata": {},
     "output_type": "execute_result"
    }
   ],
   "source": [
    "import os\n",
    "folder = \"collected_data/revision_info_200701-200901/data\"\n",
    "titles = os.listdir(folder)\n",
    "titles[:10]"
   ]
  },
  {
   "cell_type": "code",
   "execution_count": 36,
   "metadata": {},
   "outputs": [
    {
     "data": {
      "text/plain": [
       "'{{ArticleHistory\\n|action1=FAC\\n|action1date=14:39, 2 September 2006\\n|action1link=Wikipedia:Featured article candidates/Luther Burbank/archive1\\n|action1result=not promoted\\n|action1oldid=73066167\\n|currentstatus=FFAC\\n}}\\n{{WikiProjectBanners\\n|1={{WikiProject Plants|class=B|importance=Mid}}\\n|2={{WPBiography|living=no|class=B|priority=Mid\\n|needs-infobox=yes|s&a-work-group=yes|listas= Burbank, Luther}}\\n|3={{HistSci|class=B|importance=Low}}\\n|4={{WPReligion|class=|importance=|UnitarianUniversalism=yes}}\\n|5={{WikiProject California|class=B|importance=Mid}}\\n|6={{SFBAProject|class=B|importance=Mid}}\\n}}\\n==Unitarian Universalist?==\\nMost of my knowledge of Burbank comes from reading the Krafts\\' book, which was based mainly on interviews with people who knew him and on original documents.  They did not give me the impression that he was a member of any religion, although he had spiritual beliefs.  I\\'m not sure if I should take off this tag in case the Unitarian Universalists might feel that I am persecuting their religion. [[User:Steve Dufour|Steve Dufour]] 12:24, 8 July 2006 (UTC)\\n\\n\\nYes, LB was described as a \"fellow Unitarian\" in 1902 in the Pacific Unitarain magazine.\\n\\n[[User:69.12.152.181|69.12.152.181]] 05:39, 24 July 2006 (UTC)\\n\\n\\nI recommend listing the following biography by Peter Dreyer: A Gardener Touched with Genius. The work by the Krafts is of dubious historical veracity.\\n\\n:I will check that out.  The Krafts certainly had me fooled.  :-)  [[User:Steve Dufour|Steve Dufour]] 04:26, 9 August 2006 (UTC)\\n\\nI\\'m not sure how it fits in with the other information about his beliefs, but I recall reading years ago in an encyclopedia (Compton\\'s I think) entry about the \\'infidel\\' controversy that swirled around him late in his life.  The atheist site infidels.com reproduces an article from a San Francisco paper where he described religion as, \"But as a scientist I cannot help feeling that all religions are on a tottering foundation.\"  Even allowing for the yellow journalism of the day sensationalizing his views and the bias of an atheist website, I cannot help but feel that this aspect of his life is being sidestepped.  Though I do not know how it should be dealt with in text. \\nhttp://www.infidels.org/library/historical/edgar_waite/luther_burbank_infidel.html\\n[[User:24.9.161.62|24.9.161.62]] 03:00, 30 October 2007 (UTC) \\n\\nI don\\'t know how to edit the article but there are some items that should be changed. LBH&G is always written with an & not \"and\".\\n\\nThe eight-volume set is a reprint of the 12 volume set from 1914 not a new work.The work was primarily a heavily edited \"conversation\" with several editors and took nearly 10 years to complete.\\n\\n \\nThe Training of the Human Plant and My Beleifs were penned by Burbank. The fundamental principles of plant breeding was as well.\\n\\nMany, if not all of the other \"works\" listed are chapters in Vol 1 of the 12 volume set. Heavily edited/written by others. The Motion Picture thing is a chapter in Vol 1 not a book, not written by Burbank.\\n\\nBurbank died in 1926 at home in Santa Rosa.\\n\\nHe married Helen Coleman in 1890 not 1880. \\n\\nOther \"works\" are monographs produced by the editors of the 12 volume set. Monographs not necessarily written by Burbank. Additional \"works\" below are simply plant catalogues, not literature.\\n\\n+++++++++++++\\n\\nI recommend that all of these be removed:\\n\\nOther works include:\\nThe Training of the Human Plant\\nSome Interesting Failures: The Petunia with the Tobacco Habit, and Others\\nThe Almond and Its Improvement: Can It Be Grown Inside of the Peach?\\nFour Burbank Plums, and How They were Made: Methods Which Brought Unprecedented Success\\nCorn: The King of America\\'s Crops: Not Only Better Corn, But a Better Stalk and Why\\nTwenty-three Potato Seeds and What They Taught A Glimpse at the Influence of Heredity\\nOther Useful Plants Which Will Repay Experiment: Transformations and Improvements Waiting to Be Made\\nHow Plants Adapt Themselves to Conditions: The Influence of Environment\\nThe Tomato and an Interesting Experiment: A Plant which Bore Potatoes Below and Tomatoes Above\\nThe Rivalry of Plants To Please Us: On the Forward March of Adaptation\\nHow the Cactus Got Its Spines and How It Lost Them: A Sidelight on the Importance of Environment\\nSome Plants which are Begging for Immediate Improvement: Some Plants which are Begging for Immediate Improvement\\nManufacturing Food for the Live Stock: Some Suggestions on Clover, Timothy and Alfalfa\\nPlants Which Yield Useful Chemical Substances: Observations on Sugar Cane, Hops and Sugar Beets\\nShort-Cuts into the Centuries to Come: Better Plants Secured by Hurrying Evolution\\nWhat to Work for in Flowers: And How to Proceed\\nNo Two Living Things Exactly Alike: Infinite Ingenuity the Price of Variation\\nFixing Good Traits: How to Hold a Result Once Achieved\\nHow Far Can Plant Improvement Go?: The Crossroads Where Fact and Theory Seem to Part\\nThe Burbank Cherry: The Explanation of a Double Improvement\\nMy Life and Work with Fruits and Flowers\\nGarden Culture\\nBurbank\\'s new creations and special new selections in seeds\\nProof book number 1\\nHow nature makes plants to our order\\nLuther Burbank, his methods and discoveries and their practical application: A synopsis\\nFundamental principles of plant breeding: Production of new trees, fruits and flowers : plants and children\\nAnother mode of species forming\\nAdvance offering of pedigreed Burbank novelties: Fruits and flowers direct from Burbank nurseries, season 1912-1913\\nNew plants to feed the world: And other articles by and about Luther Burbank from Orchard and Farm\\nThe new Shasta daisies: \"Alaska\", \"California\", \"Westralia\"\\nThe fundamental principles of plant breeding\\nPlant breeding (How his first plants are trained to work for man)\\n \\nLuther Burbank around 1922\\n\\nHe also wrote two books unrelated to botany: Piecing the Fragments of a Motion Picture Film : We Stop to Take a Backward Glance and My Beliefs.\\n\\n:I will do this.  One of the objections to the featured article candidacy was that the article was too \"listy\". [[User:Steve Dufour|Steve Dufour]] 08:00, 6 September 2006 (UTC)\\n\\n== Another booklet written by Luther Burbank== \\nAusterlitz [[User:88.72.6.86|88.72.6.86]] 11:30, 28 November 2006 (UTC)\\n\\n:I have removed the two links above, because they were places to buy the book, and Wikipedia is not an advertising site.  Here is the text of [http://hearth.library.cornell.edu/cgi/t/text/pageviewer-idx?sid=ee2702066663ae4e729bbb6c9e6f63d9&idno=4765397&seq=2 Training of the Human Plant by Luther Burbank] [[User:Barticus88|— Randall Bart]] 18:53, 29 March 2007 (UTC)\\n\\nThere is the title only; is it not?\\n:Austerlitz -- [[User:88.72.6.58|88.72.6.58]] 09:59, 30 June 2007 (UTC)\\n\\nThe official site for LBH&G is best accessed through www.lutherburbank.org. This leads directly to the Burbank-related pages.  <small>—Preceding [[Wikipedia:Signatures|unsigned]] comment added by [[Special:Contributions/76.191.195.234|76.191.195.234]] ([[User talk:76.191.195.234|talk]]) 04:37, 16 April 2008 (UTC)</small><!-- Template:UnsignedIP --> <!--Autosigned by SineBot-->'"
      ]
     },
     "execution_count": 36,
     "metadata": {},
     "output_type": "execute_result"
    }
   ],
   "source": [
    "   lista = ['The Lion King',\n",
    " 'Luther Burbank',\n",
    " 'Avatar: The Last Airbender',\n",
    " 'Freak the Sheep Vol. 2',\n",
    " 'Heroes of Wrestling',\n",
    " 'Lady',\n",
    " 'New York State Route 345',\n",
    " 'Universe of Kingdom Hearts',\n",
    " 'Helpless Automaton',\n",
    " 'Samuel G. Arnold']\n",
    "title = lista[1]\n",
    "response = get_revision(f\"Talk:{title}\", date)\n",
    "parse_revision_response(response, date)"
   ]
  },
  {
   "cell_type": "code",
   "execution_count": 107,
   "metadata": {},
   "outputs": [],
   "source": [
    "import pandas as pd\n",
    "title = \"Nelvana\"\n",
    "input = f\"{folder}/{title}\"\n",
    "df = pd.read_csv(input)"
   ]
  },
  {
   "cell_type": "code",
   "execution_count": 336,
   "metadata": {},
   "outputs": [
    {
     "name": "stdout",
     "output_type": "stream",
     "text": [
      "B\n",
      "B\n",
      "A\n",
      "A\n",
      "A\n",
      "A\n",
      "A\n",
      "A\n",
      "A\n",
      "A\n",
      "A\n",
      "A\n",
      "A\n"
     ]
    },
    {
     "ename": "KeyError",
     "evalue": "'revisions'",
     "output_type": "error",
     "traceback": [
      "\u001b[0;31m---------------------------------------------------------------------------\u001b[0m",
      "\u001b[0;31mKeyError\u001b[0m                                  Traceback (most recent call last)",
      "\u001b[0;32m<ipython-input-336-eebdfba3dd3a>\u001b[0m in \u001b[0;36m<module>\u001b[0;34m\u001b[0m\n\u001b[1;32m     11\u001b[0m \u001b[0;32mfor\u001b[0m \u001b[0mi\u001b[0m\u001b[0;34m,\u001b[0m \u001b[0mrow\u001b[0m \u001b[0;32min\u001b[0m \u001b[0mdf\u001b[0m\u001b[0;34m.\u001b[0m\u001b[0miterrows\u001b[0m\u001b[0;34m(\u001b[0m\u001b[0;34m)\u001b[0m\u001b[0;34m:\u001b[0m\u001b[0;34m\u001b[0m\u001b[0;34m\u001b[0m\u001b[0m\n\u001b[1;32m     12\u001b[0m     \u001b[0mdate\u001b[0m \u001b[0;34m=\u001b[0m \u001b[0mrow\u001b[0m\u001b[0;34m[\u001b[0m\u001b[0;34m'revision.timestamp'\u001b[0m\u001b[0;34m]\u001b[0m\u001b[0;34m\u001b[0m\u001b[0;34m\u001b[0m\u001b[0m\n\u001b[0;32m---> 13\u001b[0;31m     \u001b[0mcategory\u001b[0m \u001b[0;34m=\u001b[0m \u001b[0mget_category\u001b[0m\u001b[0;34m(\u001b[0m\u001b[0mtitle\u001b[0m\u001b[0;34m,\u001b[0m \u001b[0mdate\u001b[0m\u001b[0;34m)\u001b[0m\u001b[0;34m\u001b[0m\u001b[0;34m\u001b[0m\u001b[0m\n\u001b[0m\u001b[1;32m     14\u001b[0m     \u001b[0mprint\u001b[0m\u001b[0;34m(\u001b[0m\u001b[0mcategory\u001b[0m\u001b[0;34m)\u001b[0m\u001b[0;34m\u001b[0m\u001b[0;34m\u001b[0m\u001b[0m\n\u001b[1;32m     15\u001b[0m     \u001b[0mdf\u001b[0m\u001b[0;34m.\u001b[0m\u001b[0mloc\u001b[0m\u001b[0;34m[\u001b[0m\u001b[0mi\u001b[0m\u001b[0;34m,\u001b[0m \u001b[0;34m'raw_category'\u001b[0m\u001b[0;34m]\u001b[0m \u001b[0;34m=\u001b[0m \u001b[0mstr\u001b[0m\u001b[0;34m(\u001b[0m\u001b[0mcategory\u001b[0m\u001b[0;34m)\u001b[0m\u001b[0;34m\u001b[0m\u001b[0;34m\u001b[0m\u001b[0m\n",
      "\u001b[0;32m<ipython-input-336-eebdfba3dd3a>\u001b[0m in \u001b[0;36mget_category\u001b[0;34m(title, date)\u001b[0m\n\u001b[1;32m      3\u001b[0m \u001b[0;32mdef\u001b[0m \u001b[0mget_category\u001b[0m\u001b[0;34m(\u001b[0m\u001b[0mtitle\u001b[0m\u001b[0;34m,\u001b[0m \u001b[0mdate\u001b[0m\u001b[0;34m)\u001b[0m\u001b[0;34m:\u001b[0m\u001b[0;34m\u001b[0m\u001b[0;34m\u001b[0m\u001b[0m\n\u001b[1;32m      4\u001b[0m     \u001b[0mresponse\u001b[0m \u001b[0;34m=\u001b[0m \u001b[0mget_revision\u001b[0m\u001b[0;34m(\u001b[0m\u001b[0;34mf\"Talk:{title}\"\u001b[0m\u001b[0;34m,\u001b[0m \u001b[0mdate\u001b[0m\u001b[0;34m)\u001b[0m\u001b[0;34m\u001b[0m\u001b[0;34m\u001b[0m\u001b[0m\n\u001b[0;32m----> 5\u001b[0;31m     \u001b[0mcontent\u001b[0m \u001b[0;34m=\u001b[0m \u001b[0mparse_revision_response\u001b[0m\u001b[0;34m(\u001b[0m\u001b[0mresponse\u001b[0m\u001b[0;34m,\u001b[0m \u001b[0mdate\u001b[0m\u001b[0;34m)\u001b[0m\u001b[0;34m\u001b[0m\u001b[0;34m\u001b[0m\u001b[0m\n\u001b[0m\u001b[1;32m      6\u001b[0m     \u001b[0;31m#return re.findall(\"{{.*class=.*}}\", content)\u001b[0m\u001b[0;34m\u001b[0m\u001b[0;34m\u001b[0m\u001b[0;34m\u001b[0m\u001b[0m\n\u001b[1;32m      7\u001b[0m    \u001b[0;31m# return re.search('class=(.+?)\\||}}]', content).group(1)\u001b[0m\u001b[0;34m\u001b[0m\u001b[0;34m\u001b[0m\u001b[0;34m\u001b[0m\u001b[0m\n",
      "\u001b[0;32m<ipython-input-11-3057faf786e3>\u001b[0m in \u001b[0;36mparse_revision_response\u001b[0;34m(response, date)\u001b[0m\n\u001b[1;32m     28\u001b[0m \u001b[0;32mdef\u001b[0m \u001b[0mparse_revision_response\u001b[0m\u001b[0;34m(\u001b[0m\u001b[0mresponse\u001b[0m\u001b[0;34m,\u001b[0m \u001b[0mdate\u001b[0m\u001b[0;34m)\u001b[0m\u001b[0;34m:\u001b[0m\u001b[0;34m\u001b[0m\u001b[0;34m\u001b[0m\u001b[0m\n\u001b[1;32m     29\u001b[0m     \u001b[0mpage\u001b[0m \u001b[0;34m=\u001b[0m \u001b[0mlist\u001b[0m\u001b[0;34m(\u001b[0m\u001b[0mresponse\u001b[0m\u001b[0;34m[\u001b[0m\u001b[0;34m\"query\"\u001b[0m\u001b[0;34m]\u001b[0m\u001b[0;34m[\u001b[0m\u001b[0;34m\"pages\"\u001b[0m\u001b[0;34m]\u001b[0m\u001b[0;34m)\u001b[0m\u001b[0;34m[\u001b[0m\u001b[0;36m0\u001b[0m\u001b[0;34m]\u001b[0m\u001b[0;34m\u001b[0m\u001b[0;34m\u001b[0m\u001b[0m\n\u001b[0;32m---> 30\u001b[0;31m     \u001b[0mrevision\u001b[0m \u001b[0;34m=\u001b[0m \u001b[0mlist\u001b[0m\u001b[0;34m(\u001b[0m\u001b[0mpage\u001b[0m\u001b[0;34m[\u001b[0m\u001b[0;34m\"revisions\"\u001b[0m\u001b[0;34m]\u001b[0m\u001b[0;34m)\u001b[0m\u001b[0;34m[\u001b[0m\u001b[0;36m0\u001b[0m\u001b[0;34m]\u001b[0m\u001b[0;34m\u001b[0m\u001b[0;34m\u001b[0m\u001b[0m\n\u001b[0m\u001b[1;32m     31\u001b[0m    \u001b[0;31m# return (page[\"pageid\"], page[\"title\"], revision[\"user\"], revision[\"timestamp\"], revision[\"comment\"], revision[\"slots\"][\"main\"][\"content\"])\u001b[0m\u001b[0;34m\u001b[0m\u001b[0;34m\u001b[0m\u001b[0;34m\u001b[0m\u001b[0m\n\u001b[1;32m     32\u001b[0m     \u001b[0;32mreturn\u001b[0m \u001b[0mrevision\u001b[0m\u001b[0;34m[\u001b[0m\u001b[0;34m\"slots\"\u001b[0m\u001b[0;34m]\u001b[0m\u001b[0;34m[\u001b[0m\u001b[0;34m\"main\"\u001b[0m\u001b[0;34m]\u001b[0m\u001b[0;34m[\u001b[0m\u001b[0;34m\"content\"\u001b[0m\u001b[0;34m]\u001b[0m\u001b[0;34m\u001b[0m\u001b[0;34m\u001b[0m\u001b[0m\n",
      "\u001b[0;31mKeyError\u001b[0m: 'revisions'"
     ]
    }
   ],
   "source": [
    "# Pope, Nelvana, Big Bang, Munster, Fremen, Chicago 19, GNOME, Stargate, Enron, Namco, Pholcidae, Freenet\n",
    "title = \"Pope\"\n",
    "def get_category(title, date):\n",
    "    response = get_revision(f\"Talk:{title}\", date)\n",
    "    content = parse_revision_response(response, date)\n",
    "    #return re.findall(\"{{.*class=.*}}\", content)\n",
    "   # return re.search('class=(.+?)\\||}}]', content).group(1)\n",
    "    result = re.findall('(class=(.+?)^[|\\n ]}|class=(.+?)\\||class=(.+?)\\n)', content)\n",
    "    return result[0][1] if result[0][0][-1:] == '}' else result[0][2] if result[0][0][-1:] == '|' else result[0][3]# if result[0][0][-1:] == ' ' else result[0][4]\n",
    "\n",
    "for i, row in df.iterrows():\n",
    "    date = row['revision.timestamp']\n",
    "    category = get_category(title, date)\n",
    "    print(category)\n",
    "    df.loc[i, 'raw_category'] = str(category)\n",
    "df\n",
    "\n",
    "    "
   ]
  },
  {
   "cell_type": "code",
   "execution_count": 20,
   "metadata": {},
   "outputs": [],
   "source": [
    "date_start = \"2002-01-03T00:00:00Z\"\n",
    "date_end = \"2011-01-03T00:00:00Z\"\n",
    "\n",
    "dates = pd.date_range(date_start, date_end, freq='3MS').strftime(\"%Y-%m-%dT%H:%M:%SZ\").tolist()[::-1]\n"
   ]
  },
  {
   "cell_type": "code",
   "execution_count": 345,
   "metadata": {},
   "outputs": [
    {
     "name": "stdout",
     "output_type": "stream",
     "text": [
      "2010-11-01T00:00:00Z B\n",
      "2010-08-01T00:00:00Z B\n",
      "2010-05-01T00:00:00Z B\n",
      "2010-02-01T00:00:00Z B\n",
      "2009-11-01T00:00:00Z B\n",
      "2009-08-01T00:00:00Z B\n",
      "2009-05-01T00:00:00Z GA\n",
      "2009-02-01T00:00:00Z GA\n",
      "2008-11-01T00:00:00Z GA\n",
      "2008-08-01T00:00:00Z GA\n",
      "2008-05-01T00:00:00Z GA\n",
      "2008-02-01T00:00:00Z GA\n",
      "2007-11-01T00:00:00Z GA\n",
      "2007-08-01T00:00:00Z GA\n",
      "2007-05-01T00:00:00Z GA\n",
      "2007-02-01T00:00:00Z GA\n",
      "2006-11-01T00:00:00Z GA\n",
      "2006-08-01T00:00:00Z \"thumb tleft\">\n"
     ]
    }
   ],
   "source": [
    "# Pope, Nelvana, Big Bang, Munster, Fremen, Chicago 19, GNOME, Stargate, Enron, Namco, Pholcidae, Freenet, Kakapo\n",
    "title = \"Pigment\"\n",
    "for date in dates:\n",
    "    try:\n",
    "        category = get_category(title, date)\n",
    "        print(f\"{date} {category}\")\n",
    "    except:\n",
    "        pass\n",
    "{{class=A}}\n",
    "{{class=A|aodkaod}}\n",
    "{{class=A\\n|}}\n",
    "{{class=A }}"
   ]
  },
  {
   "cell_type": "code",
   "execution_count": 18,
   "metadata": {},
   "outputs": [
    {
     "ename": "NameError",
     "evalue": "name 'titles_not_found' is not defined",
     "output_type": "error",
     "traceback": [
      "\u001b[0;31m---------------------------------------------------------------------------\u001b[0m",
      "\u001b[0;31mNameError\u001b[0m                                 Traceback (most recent call last)",
      "\u001b[0;32m<ipython-input-18-be9098f94314>\u001b[0m in \u001b[0;36m<module>\u001b[0;34m\u001b[0m\n\u001b[0;32m----> 1\u001b[0;31m \u001b[0mdataset\u001b[0m\u001b[0;34m=\u001b[0m \u001b[0mdataset\u001b[0m\u001b[0;34m[\u001b[0m\u001b[0mdataset\u001b[0m\u001b[0;34m.\u001b[0m\u001b[0mpage_title\u001b[0m\u001b[0;34m.\u001b[0m\u001b[0misin\u001b[0m\u001b[0;34m(\u001b[0m\u001b[0mtitles_not_found\u001b[0m\u001b[0;34m)\u001b[0m\u001b[0;34m]\u001b[0m\u001b[0;34m\u001b[0m\u001b[0;34m\u001b[0m\u001b[0m\n\u001b[0m\u001b[1;32m      2\u001b[0m \u001b[0moi\u001b[0m \u001b[0;34m=\u001b[0m \u001b[0mlist\u001b[0m\u001b[0;34m(\u001b[0m\u001b[0mdataset\u001b[0m\u001b[0;34m[\u001b[0m\u001b[0;34m\"page_id\"\u001b[0m\u001b[0;34m]\u001b[0m\u001b[0;34m)\u001b[0m\u001b[0;34m\u001b[0m\u001b[0;34m\u001b[0m\u001b[0m\n",
      "\u001b[0;31mNameError\u001b[0m: name 'titles_not_found' is not defined"
     ]
    }
   ],
   "source": [
    "\n",
    "dataset= dataset[dataset.page_title.isin(titles_not_found)]\n",
    "list(dataset[\"page_id\"])\n"
   ]
  }
 ],
 "metadata": {
  "kernelspec": {
   "display_name": "Python 3",
   "language": "python",
   "name": "python3"
  },
  "language_info": {
   "codemirror_mode": {
    "name": "ipython",
    "version": 3
   },
   "file_extension": ".py",
   "mimetype": "text/x-python",
   "name": "python",
   "nbconvert_exporter": "python",
   "pygments_lexer": "ipython3",
   "version": "3.7.4"
  }
 },
 "nbformat": 4,
 "nbformat_minor": 2
}
