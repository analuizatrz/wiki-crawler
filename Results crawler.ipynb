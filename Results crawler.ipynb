{
 "cells": [
  {
   "cell_type": "markdown",
   "metadata": {},
   "source": [
    "## Resultados\n",
    "\n",
    "pode-se ver isso executando os comandos `ls -l data | wc -l` para obter o número de páginas coletadas e `cat errors.csv | wc -l` para obter o número de páginas com erro, nas pastas das coletas correspondentes.\n",
    "\n",
    "Para passar as tabelas para latex : https://www.tablesgenerator.com/"
   ]
  },
  {
   "cell_type": "code",
   "execution_count": 3,
   "metadata": {},
   "outputs": [],
   "source": [
    "import pandas as pd\n",
    "from wkdatacollector.wkio import read_json\n",
    "base_folder = \"../tcc-collected-data/data\""
   ]
  },
  {
   "cell_type": "code",
   "execution_count": 8,
   "metadata": {
    "scrolled": true
   },
   "outputs": [
    {
     "data": {
      "text/html": [
       "<div>\n",
       "<style scoped>\n",
       "    .dataframe tbody tr th:only-of-type {\n",
       "        vertical-align: middle;\n",
       "    }\n",
       "\n",
       "    .dataframe tbody tr th {\n",
       "        vertical-align: top;\n",
       "    }\n",
       "\n",
       "    .dataframe thead th {\n",
       "        text-align: right;\n",
       "    }\n",
       "</style>\n",
       "<table border=\"1\" class=\"dataframe\">\n",
       "  <thead>\n",
       "    <tr style=\"text-align: right;\">\n",
       "      <th></th>\n",
       "      <th>file</th>\n",
       "      <th>collected</th>\n",
       "      <th>partially collected</th>\n",
       "      <th>errors</th>\n",
       "      <th>total</th>\n",
       "      <th>missing</th>\n",
       "      <th>descarted</th>\n",
       "    </tr>\n",
       "  </thead>\n",
       "  <tbody>\n",
       "    <tr>\n",
       "      <td>0</td>\n",
       "      <td>revision_info_2007-2009</td>\n",
       "      <td>2846</td>\n",
       "      <td>926</td>\n",
       "      <td>455</td>\n",
       "      <td>3306</td>\n",
       "      <td>-12</td>\n",
       "      <td>sim</td>\n",
       "    </tr>\n",
       "    <tr>\n",
       "      <td>1</td>\n",
       "      <td>revision_info_201707-201907</td>\n",
       "      <td>1474</td>\n",
       "      <td>0</td>\n",
       "      <td>1821</td>\n",
       "      <td>3294</td>\n",
       "      <td>-1</td>\n",
       "      <td>sim</td>\n",
       "    </tr>\n",
       "    <tr>\n",
       "      <td>2</td>\n",
       "      <td>revision_info_200701-200901</td>\n",
       "      <td>2844</td>\n",
       "      <td>930</td>\n",
       "      <td>450</td>\n",
       "      <td>3294</td>\n",
       "      <td>-1</td>\n",
       "      <td>não</td>\n",
       "    </tr>\n",
       "    <tr>\n",
       "      <td>3</td>\n",
       "      <td>revision_info_200701-200901-errors</td>\n",
       "      <td>368</td>\n",
       "      <td>144</td>\n",
       "      <td>82</td>\n",
       "      <td>450</td>\n",
       "      <td>0</td>\n",
       "      <td>não</td>\n",
       "    </tr>\n",
       "    <tr>\n",
       "      <td>4</td>\n",
       "      <td>revision_info_200701-200901 uniao -errors</td>\n",
       "      <td>3212</td>\n",
       "      <td>1074</td>\n",
       "      <td>82</td>\n",
       "      <td>3294</td>\n",
       "      <td>0</td>\n",
       "      <td>não</td>\n",
       "    </tr>\n",
       "    <tr>\n",
       "      <td>5</td>\n",
       "      <td>content</td>\n",
       "      <td>0</td>\n",
       "      <td>0</td>\n",
       "      <td>0</td>\n",
       "      <td>0</td>\n",
       "      <td>0</td>\n",
       "      <td>não</td>\n",
       "    </tr>\n",
       "    <tr>\n",
       "      <td>6</td>\n",
       "      <td>titles</td>\n",
       "      <td>40</td>\n",
       "      <td>0</td>\n",
       "      <td>42</td>\n",
       "      <td>82</td>\n",
       "      <td>0</td>\n",
       "      <td>não</td>\n",
       "    </tr>\n",
       "    <tr>\n",
       "      <td>7</td>\n",
       "      <td>revision_info_pos_titles</td>\n",
       "      <td>34</td>\n",
       "      <td>0</td>\n",
       "      <td>6</td>\n",
       "      <td>40</td>\n",
       "      <td>0</td>\n",
       "      <td>não</td>\n",
       "    </tr>\n",
       "    <tr>\n",
       "      <td>8</td>\n",
       "      <td>content_pos_titles</td>\n",
       "      <td>34</td>\n",
       "      <td>0</td>\n",
       "      <td>0</td>\n",
       "      <td>34</td>\n",
       "      <td>0</td>\n",
       "      <td>não</td>\n",
       "    </tr>\n",
       "    <tr>\n",
       "      <td>9</td>\n",
       "      <td>info_and_category_200701-200901</td>\n",
       "      <td>1589</td>\n",
       "      <td>0</td>\n",
       "      <td>1264</td>\n",
       "      <td>2843</td>\n",
       "      <td>0</td>\n",
       "      <td>não</td>\n",
       "    </tr>\n",
       "    <tr>\n",
       "      <td>10</td>\n",
       "      <td>info_and_category_200701-200901+parcial</td>\n",
       "      <td>1056</td>\n",
       "      <td>0</td>\n",
       "      <td>198</td>\n",
       "      <td>1264</td>\n",
       "      <td>0</td>\n",
       "      <td>não</td>\n",
       "    </tr>\n",
       "    <tr>\n",
       "      <td>11</td>\n",
       "      <td>info_and_category_200701-200901+parcial+</td>\n",
       "      <td>2994</td>\n",
       "      <td>-1</td>\n",
       "      <td>-1</td>\n",
       "      <td>-1</td>\n",
       "      <td>-1</td>\n",
       "      <td>não</td>\n",
       "    </tr>\n",
       "  </tbody>\n",
       "</table>\n",
       "</div>"
      ],
      "text/plain": [
       "                                         file  collected  partially collected  \\\n",
       "0                     revision_info_2007-2009       2846                  926   \n",
       "1                 revision_info_201707-201907       1474                    0   \n",
       "2                 revision_info_200701-200901       2844                  930   \n",
       "3          revision_info_200701-200901-errors        368                  144   \n",
       "4   revision_info_200701-200901 uniao -errors       3212                 1074   \n",
       "5                                     content          0                    0   \n",
       "6                                      titles         40                    0   \n",
       "7                    revision_info_pos_titles         34                    0   \n",
       "8                          content_pos_titles         34                    0   \n",
       "9             info_and_category_200701-200901       1589                    0   \n",
       "10    info_and_category_200701-200901+parcial       1056                    0   \n",
       "11   info_and_category_200701-200901+parcial+       2994                   -1   \n",
       "\n",
       "    errors  total  missing descarted  \n",
       "0      455   3306      -12       sim  \n",
       "1     1821   3294       -1       sim  \n",
       "2      450   3294       -1       não  \n",
       "3       82    450        0       não  \n",
       "4       82   3294        0       não  \n",
       "5        0      0        0       não  \n",
       "6       42     82        0       não  \n",
       "7        6     40        0       não  \n",
       "8        0     34        0       não  \n",
       "9     1264   2843        0       não  \n",
       "10     198   1264        0       não  \n",
       "11      -1     -1       -1       não  "
      ]
     },
     "execution_count": 8,
     "metadata": {},
     "output_type": "execute_result"
    }
   ],
   "source": [
    "info_meta = pd.DataFrame([[\"revision_info_2007-2009\", 2846, 926, 455, 3306, -12, \"sim\"],\n",
    "           #   [\"erros_partially_revision_info_200701-200901\", 926, 455, 1386, 5, \"sim\"],\n",
    "              [\"revision_info_201707-201907\", 1474, 0, 1821, 3294, -1, \"sim\" ],\n",
    "              [\"revision_info_200701-200901\", 2844, 930, 450, 3294, -1, \"não\" ],\n",
    "              [\"revision_info_200701-200901-errors\",368,144, 82, 450, 0, \"não\"],\n",
    "              [\"revision_info_200701-200901 uniao -errors\",3212,1074, 82, 3294, 0, \"não\"],\n",
    "              [\"content\",0,0, 0, 0, 0, \"não\"],\n",
    "              [\"titles\",40,0, 42, 82, 0, \"não\"],\n",
    "              [\"revision_info_pos_titles\",34,0, 6, 40, 0, \"não\"],\n",
    "              [\"content_pos_titles\",34,0, 0, 34, 0, \"não\"],\n",
    "              [\"info_and_category_200701-200901\", 1589, 0, 1264, 2843, 0, \"não\" ],\n",
    "              [\"info_and_category_200701-200901+parcial\", 1056, 0, 198, 1264, 0, \"não\" ],\n",
    "              [\"info_and_category_200701-200901+parcial+\", 2994, -1, -1, -1, -1, \"não\" ],\n",
    "             ], columns = [\"file\", \"collected\", \"partially collected\", \"errors\", \"total\", \"missing\", \"descarted\"]\n",
    "            )\n",
    "info_meta"
   ]
  },
  {
   "cell_type": "markdown",
   "metadata": {},
   "source": [
    "## Base Original"
   ]
  },
  {
   "cell_type": "code",
   "execution_count": 16,
   "metadata": {},
   "outputs": [
    {
     "data": {
      "text/plain": [
       "3294"
      ]
     },
     "execution_count": 16,
     "metadata": {},
     "output_type": "execute_result"
    }
   ],
   "source": [
    "hasan_ = pd.read_csv('wikipedia_dataset_hasan/wikipedia_old.csv')\n",
    "hasan = set(hasan_[\"page_title\"])\n",
    "len(hasan)"
   ]
  },
  {
   "cell_type": "markdown",
   "metadata": {},
   "source": [
    "## Coleta de infos\n",
    "\n",
    "1. A coleta realizada de 2009 à 2007 resultou em 1908 ou (1920) e erros (1386) (revision_info_2007-2009)\n",
    "2. coleta dos artigos com erro, que tem mais rvcontinue (926) e erros (455)\n",
    "3. A coleta de 2009 à 2007 resultou em 930 coletados não completamente e 450 erros"
   ]
  },
  {
   "cell_type": "markdown",
   "metadata": {},
   "source": [
    "Métricas dos 3212 artigos (quantidade de revisões distintas)"
   ]
  },
  {
   "cell_type": "code",
   "execution_count": 3,
   "metadata": {},
   "outputs": [
    {
     "data": {
      "text/html": [
       "<div>\n",
       "<style scoped>\n",
       "    .dataframe tbody tr th:only-of-type {\n",
       "        vertical-align: middle;\n",
       "    }\n",
       "\n",
       "    .dataframe tbody tr th {\n",
       "        vertical-align: top;\n",
       "    }\n",
       "\n",
       "    .dataframe thead th {\n",
       "        text-align: right;\n",
       "    }\n",
       "</style>\n",
       "<table border=\"1\" class=\"dataframe\">\n",
       "  <thead>\n",
       "    <tr style=\"text-align: right;\">\n",
       "      <th></th>\n",
       "      <th>métrica</th>\n",
       "      <th>valor</th>\n",
       "    </tr>\n",
       "  </thead>\n",
       "  <tbody>\n",
       "    <tr>\n",
       "      <td>0</td>\n",
       "      <td>média</td>\n",
       "      <td>16.353784</td>\n",
       "    </tr>\n",
       "    <tr>\n",
       "      <td>1</td>\n",
       "      <td>min</td>\n",
       "      <td>1.000000</td>\n",
       "    </tr>\n",
       "    <tr>\n",
       "      <td>2</td>\n",
       "      <td>max</td>\n",
       "      <td>24.000000</td>\n",
       "    </tr>\n",
       "    <tr>\n",
       "      <td>3</td>\n",
       "      <td>std</td>\n",
       "      <td>7.566159</td>\n",
       "    </tr>\n",
       "  </tbody>\n",
       "</table>\n",
       "</div>"
      ],
      "text/plain": [
       "  métrica      valor\n",
       "0   média  16.353784\n",
       "1     min   1.000000\n",
       "2     max  24.000000\n",
       "3     std   7.566159"
      ]
     },
     "execution_count": 3,
     "metadata": {},
     "output_type": "execute_result"
    }
   ],
   "source": [
    "pd.DataFrame(\n",
    "    [[\"média\", 16.353783867953908],\n",
    "    [\"min\", 1],\n",
    "    [\"max\", 24],\n",
    "    [\"std\", 7.566158906605211]], columns=[\"métrica\", \"valor\"]\n",
    ")\n"
   ]
  },
  {
   "cell_type": "code",
   "execution_count": 4,
   "metadata": {},
   "outputs": [
    {
     "data": {
      "text/plain": [
       "('std', 4.061007946140082)"
      ]
     },
     "execution_count": 4,
     "metadata": {},
     "output_type": "execute_result"
    }
   ],
   "source": [
    "\"métrica\",\"valor\"\n",
    "\"média\",22.19838056680162\n",
    "\"min\",1.0\n",
    "\"max\",24.0\n",
    "\"std\",4.061007946140082"
   ]
  },
  {
   "cell_type": "code",
   "execution_count": 26,
   "metadata": {},
   "outputs": [],
   "source": [
    "infos_and_category_1 = !ls ~/Documents/tcc-collected-data/data/info_and_category_200701-200901/data\n",
    "infos_and_category = set(infos_and_category_1)"
   ]
  },
  {
   "cell_type": "code",
   "execution_count": 27,
   "metadata": {},
   "outputs": [
    {
     "data": {
      "text/plain": [
       "2998"
      ]
     },
     "execution_count": 27,
     "metadata": {},
     "output_type": "execute_result"
    }
   ],
   "source": [
    "len(infos_and_category)\n"
   ]
  },
  {
   "cell_type": "code",
   "execution_count": 31,
   "metadata": {},
   "outputs": [
    {
     "data": {
      "text/plain": [
       "3325"
      ]
     },
     "execution_count": 31,
     "metadata": {},
     "output_type": "execute_result"
    }
   ],
   "source": [
    "hasan - info"
   ]
  },
  {
   "cell_type": "markdown",
   "metadata": {},
   "source": [
    "## Coleta de conteúdos\n",
    "\n",
    "1,5 GB, tempo ~20000\n"
   ]
  },
  {
   "cell_type": "code",
   "execution_count": 36,
   "metadata": {},
   "outputs": [
    {
     "data": {
      "text/plain": [
       "2840"
      ]
     },
     "execution_count": 36,
     "metadata": {},
     "output_type": "execute_result"
    }
   ],
   "source": [
    "content_folder_1 = f\"{base_folder}/content_200701-200901-errors\" \n",
    "contents_1 = read_json(f\"{content_folder_1}/collected-coleta1.json\")[\"collected_pages\"]\n",
    "len(contents_1)"
   ]
  },
  {
   "cell_type": "code",
   "execution_count": 62,
   "metadata": {},
   "outputs": [
    {
     "data": {
      "text/plain": [
       "368"
      ]
     },
     "execution_count": 62,
     "metadata": {},
     "output_type": "execute_result"
    }
   ],
   "source": [
    "contents_2 = read_json(f\"{content_folder_1}/collected.json\")[\"collected_pages\"]\n",
    "len(set(contents_2)-set(contents_1))"
   ]
  },
  {
   "cell_type": "code",
   "execution_count": 40,
   "metadata": {},
   "outputs": [
    {
     "data": {
      "text/plain": [
       "34"
      ]
     },
     "execution_count": 40,
     "metadata": {},
     "output_type": "execute_result"
    }
   ],
   "source": [
    "contents_3 = !ls ~/Documents/tcc-collected-data/data/content_info_by_id200701-200901-errors/data\n",
    "cont_3 = set([x.split(\"|\")[0] for x in contents_3])\n",
    "len(cont_3)"
   ]
  },
  {
   "cell_type": "code",
   "execution_count": 65,
   "metadata": {},
   "outputs": [
    {
     "data": {
      "text/html": [
       "<div>\n",
       "<style scoped>\n",
       "    .dataframe tbody tr th:only-of-type {\n",
       "        vertical-align: middle;\n",
       "    }\n",
       "\n",
       "    .dataframe tbody tr th {\n",
       "        vertical-align: top;\n",
       "    }\n",
       "\n",
       "    .dataframe thead th {\n",
       "        text-align: right;\n",
       "    }\n",
       "</style>\n",
       "<table border=\"1\" class=\"dataframe\">\n",
       "  <thead>\n",
       "    <tr style=\"text-align: right;\">\n",
       "      <th></th>\n",
       "      <th>coleta</th>\n",
       "      <th>collected</th>\n",
       "      <th>errors</th>\n",
       "      <th>total</th>\n",
       "      <th>tempo</th>\n",
       "    </tr>\n",
       "  </thead>\n",
       "  <tbody>\n",
       "    <tr>\n",
       "      <td>0</td>\n",
       "      <td>1</td>\n",
       "      <td>2840</td>\n",
       "      <td>4</td>\n",
       "      <td>2884</td>\n",
       "      <td>16423.973916</td>\n",
       "    </tr>\n",
       "    <tr>\n",
       "      <td>1</td>\n",
       "      <td>2</td>\n",
       "      <td>368</td>\n",
       "      <td>0</td>\n",
       "      <td>368</td>\n",
       "      <td>2360.591917</td>\n",
       "    </tr>\n",
       "    <tr>\n",
       "      <td>2</td>\n",
       "      <td>3</td>\n",
       "      <td>34</td>\n",
       "      <td>0</td>\n",
       "      <td>34</td>\n",
       "      <td>208.602368</td>\n",
       "    </tr>\n",
       "    <tr>\n",
       "      <td>3</td>\n",
       "      <td>Total</td>\n",
       "      <td>3242</td>\n",
       "      <td>4</td>\n",
       "      <td>3246</td>\n",
       "      <td>208.602368</td>\n",
       "    </tr>\n",
       "  </tbody>\n",
       "</table>\n",
       "</div>"
      ],
      "text/plain": [
       "  coleta  collected  errors  total         tempo\n",
       "0      1       2840       4   2884  16423.973916\n",
       "1      2        368       0    368   2360.591917\n",
       "2      3         34       0     34    208.602368\n",
       "3  Total       3242       4   3246    208.602368"
      ]
     },
     "execution_count": 65,
     "metadata": {},
     "output_type": "execute_result"
    }
   ],
   "source": [
    "content_table = pd.DataFrame([\n",
    "           #   [\"erros_partially_revision_info_200701-200901\", 926, 455, 1386, 5, \"sim\"],\n",
    "              [\"1\", 2840, 4, 2884,16423.973916000028 ],\n",
    "              [\"2\", 368, 0, 368, 2360.591916999998 ],\n",
    "              [\"3\", 34,  0, 34, 208.60236799999996 ],\n",
    "              [\"Total\", 3242, 4, 3246 , 208.60236799999996],\n",
    "\n",
    "             ], columns = [\"coleta\", \"collected\", \"errors\", \"total\", \"tempo\"]\n",
    "            )\n",
    "content_table"
   ]
  },
  {
   "cell_type": "markdown",
   "metadata": {},
   "source": [
    "# Coleta de categorias"
   ]
  },
  {
   "cell_type": "code",
   "execution_count": 74,
   "metadata": {},
   "outputs": [
    {
     "name": "stdout",
     "output_type": "stream",
     "text": [
      "2998\n"
     ]
    }
   ],
   "source": [
    "infos = !ls ~/Documents/tcc-collected-data/data/info_and_category_200701-200901/data\n",
    "\n",
    "print(len(infos))"
   ]
  },
  {
   "cell_type": "code",
   "execution_count": 75,
   "metadata": {},
   "outputs": [
    {
     "name": "stdout",
     "output_type": "stream",
     "text": [
      "collected-coleta1-salvamentototal.json\t  errors-coleta1-salvamentototal.csv\r\n",
      "collected-coleta2-salvamentoparcial.json  errors-coleta2-salvamentoparcial.csv\r\n",
      "collected-coleta3-redirects.json\t  errors-coleta3-redirecionameto.csv\r\n",
      "collected-coleta4-byid.json\t\t  errors-coleta4-byid.csv\r\n",
      "collected.json\t\t\t\t  errors.csv\r\n",
      "data\t\t\t\t\t  log.csv\r\n"
     ]
    }
   ],
   "source": [
    "!ls ~/Documents/tcc-collected-data/data/info_and_category_200701-200901"
   ]
  },
  {
   "cell_type": "code",
   "execution_count": 80,
   "metadata": {},
   "outputs": [
    {
     "name": "stdout",
     "output_type": "stream",
     "text": [
      "coleta 1 : 1589\n",
      "coleta 2 : 1057\n",
      "coleta 3 : 322\n",
      "coleta 4 : 31\n"
     ]
    }
   ],
   "source": [
    "category_folder = f\"{base_folder}/info_and_category_200701-200901\" \n",
    "category_1 = set(read_json(f\"{category_folder}/collected-coleta1-salvamentototal.json\")[\"collected_pages\"])\n",
    "category_2 = set(read_json(f\"{category_folder}/collected-coleta2-salvamentoparcial.json\")[\"collected_pages\"])\n",
    "category_3 = set(read_json(f\"{category_folder}/collected-coleta3-redirects.json\")[\"collected_pages\"])\n",
    "category_4 = set(read_json(f\"{category_folder}/collected-coleta4-byid.json\")[\"collected_pages\"])\n",
    "#len(set(category_1)-set(contents_1)\n",
    "print(f\"coleta 1 : {len(category_1)}\")\n",
    "print(f\"coleta 2 : {len(category_2) - len(category_1)}\")\n",
    "print(f\"coleta 3 : {len(category_3) - len(category_2)}\")\n",
    "print(f\"coleta 4 : {len(category_4) - len(category_3)}\")"
   ]
  },
  {
   "cell_type": "code",
   "execution_count": 90,
   "metadata": {},
   "outputs": [
    {
     "name": "stdout",
     "output_type": "stream",
     "text": [
      "coleta 1 : 1256\n",
      "coleta 2 : 199\n",
      "coleta 3 : 47\n",
      "coleta 4 : 3\n",
      "total : 1505\n"
     ]
    }
   ],
   "source": [
    "#titles = open(error_file, \"r\").read().split('\\n')[:-1]\n",
    "\n",
    "category_err_1 = set(open(f\"{category_folder}/errors-coleta1-salvamentototal.csv\", \"r\").read().split('\\n'))\n",
    "category_err_2 = set(open(f\"{category_folder}/errors-coleta2-salvamentoparcial.csv\", \"r\").read().split('\\n'))\n",
    "category_err_3 = set(open(f\"{category_folder}/errors-coleta3-redirecionameto.csv\", \"r\").read().split('\\n'))\n",
    "category_err_4 = set(open(f\"{category_folder}/errors-coleta4-byid.csv\", \"r\").read().split('\\n'))\n",
    "#len(set(category_1)-set(contents_1)\n",
    "print(f\"coleta 1 : {len(category_err_1)}\")\n",
    "print(f\"coleta 2 : {len(category_err_2)}\")\n",
    "print(f\"coleta 3 : {len(category_err_3)}\")\n",
    "print(f\"coleta 4 : {len(category_err_4)}\")\n",
    "category_err_total = len(category_err_1) + len(category_err_2) + len(category_err_3)  + len(category_err_4)\n",
    "print(f\"total : {category_err_total}\")"
   ]
  },
  {
   "cell_type": "code",
   "execution_count": 101,
   "metadata": {},
   "outputs": [
    {
     "data": {
      "text/html": [
       "<div>\n",
       "<style scoped>\n",
       "    .dataframe tbody tr th:only-of-type {\n",
       "        vertical-align: middle;\n",
       "    }\n",
       "\n",
       "    .dataframe tbody tr th {\n",
       "        vertical-align: top;\n",
       "    }\n",
       "\n",
       "    .dataframe thead th {\n",
       "        text-align: right;\n",
       "    }\n",
       "</style>\n",
       "<table border=\"1\" class=\"dataframe\">\n",
       "  <thead>\n",
       "    <tr style=\"text-align: right;\">\n",
       "      <th></th>\n",
       "      <th>coleta</th>\n",
       "      <th>collected</th>\n",
       "      <th>errors</th>\n",
       "      <th>total</th>\n",
       "      <th>tempo</th>\n",
       "    </tr>\n",
       "  </thead>\n",
       "  <tbody>\n",
       "    <tr>\n",
       "      <td>0</td>\n",
       "      <td>1</td>\n",
       "      <td>1589</td>\n",
       "      <td>1256</td>\n",
       "      <td>2845</td>\n",
       "      <td>16423.973916</td>\n",
       "    </tr>\n",
       "    <tr>\n",
       "      <td>1</td>\n",
       "      <td>2</td>\n",
       "      <td>1057</td>\n",
       "      <td>199</td>\n",
       "      <td>1256</td>\n",
       "      <td>2360.591917</td>\n",
       "    </tr>\n",
       "    <tr>\n",
       "      <td>2</td>\n",
       "      <td>3</td>\n",
       "      <td>322</td>\n",
       "      <td>47</td>\n",
       "      <td>369</td>\n",
       "      <td>208.602368</td>\n",
       "    </tr>\n",
       "    <tr>\n",
       "      <td>3</td>\n",
       "      <td>4</td>\n",
       "      <td>31</td>\n",
       "      <td>3</td>\n",
       "      <td>34</td>\n",
       "      <td>208.602368</td>\n",
       "    </tr>\n",
       "    <tr>\n",
       "      <td>4</td>\n",
       "      <td>Total</td>\n",
       "      <td>2999</td>\n",
       "      <td>305</td>\n",
       "      <td>3294</td>\n",
       "      <td>208.602368</td>\n",
       "    </tr>\n",
       "  </tbody>\n",
       "</table>\n",
       "</div>"
      ],
      "text/plain": [
       "  coleta  collected  errors  total         tempo\n",
       "0      1       1589    1256   2845  16423.973916\n",
       "1      2       1057     199   1256   2360.591917\n",
       "2      3        322      47    369    208.602368\n",
       "3      4         31       3     34    208.602368\n",
       "4  Total       2999     305   3294    208.602368"
      ]
     },
     "execution_count": 101,
     "metadata": {},
     "output_type": "execute_result"
    }
   ],
   "source": [
    "category_table = pd.DataFrame([\n",
    "           #   [\"erros_partially_revision_info_200701-200901\", 926, 455, 1386, 5, \"sim\"],\n",
    "              [\"1\", len(category_1), len(category_err_1), len(category_1)+len(category_err_1),21227.835890999966 ],\n",
    "              [\"2\", len(category_2) - len(category_1), len(category_err_2), len(category_2) - len(category_1) + len(category_err_2), 2360.591916999998 ],\n",
    "              [\"3\", len(category_3) - len(category_2),  len(category_err_3), len(category_3) - len(category_2) + len(category_err_3), 8187.494828000001 ],\n",
    "              [\"4\", len(category_4) - len(category_3),  len(category_err_4), len(category_4) - len(category_3) + len(category_err_4), 8187.494828000001],\n",
    "              [\"Total\", len(category_4), 305, 3294 , 208.60236799999996],\n",
    "\n",
    "             ], columns = [\"coleta\", \"collected\", \"errors\", \"total\", \"tempo\"]\n",
    "            )\n",
    "category_table"
   ]
  },
  {
   "cell_type": "markdown",
   "metadata": {},
   "source": [
    "## Conversão para Html\n",
    "\n",
    "A partir do conteúdo coletado \n",
    "\n",
    "tamanho: 2,2 GB \n",
    "tempo 12614.08667200011\n",
    "~53 mil arquivos de conteúdo títulos|data\n",
    "erros 0\n"
   ]
  },
  {
   "cell_type": "code",
   "execution_count": 6,
   "metadata": {},
   "outputs": [
    {
     "data": {
      "text/html": [
       "<div>\n",
       "<style scoped>\n",
       "    .dataframe tbody tr th:only-of-type {\n",
       "        vertical-align: middle;\n",
       "    }\n",
       "\n",
       "    .dataframe tbody tr th {\n",
       "        vertical-align: top;\n",
       "    }\n",
       "\n",
       "    .dataframe thead th {\n",
       "        text-align: right;\n",
       "    }\n",
       "</style>\n",
       "<table border=\"1\" class=\"dataframe\">\n",
       "  <thead>\n",
       "    <tr style=\"text-align: right;\">\n",
       "      <th></th>\n",
       "      <th>tamanho</th>\n",
       "      <th>instâncias</th>\n",
       "      <th>erros</th>\n",
       "      <th>total</th>\n",
       "      <th>tempo</th>\n",
       "    </tr>\n",
       "  </thead>\n",
       "  <tbody>\n",
       "    <tr>\n",
       "      <td>0</td>\n",
       "      <td>2.2GB</td>\n",
       "      <td>~53 mil</td>\n",
       "      <td>~53 mil</td>\n",
       "      <td>0</td>\n",
       "      <td>12614.086672</td>\n",
       "    </tr>\n",
       "  </tbody>\n",
       "</table>\n",
       "</div>"
      ],
      "text/plain": [
       "  tamanho instâncias    erros  total         tempo\n",
       "0   2.2GB    ~53 mil  ~53 mil      0  12614.086672"
      ]
     },
     "execution_count": 6,
     "metadata": {},
     "output_type": "execute_result"
    }
   ],
   "source": [
    "pd.DataFrame([\n",
    "        [\"2.2GB\", 53023, 0, 53023, 12614.08667200011 ],\n",
    "    ], columns = [\"tamanho\", \"instâncias\", \"erros\", \"total\",\"tempo\"])"
   ]
  },
  {
   "cell_type": "markdown",
   "metadata": {},
   "source": [
    "## Criação de features (raw_dataset)\n",
    "A partir dos arquivos HTML gerar as 58 features\n",
    "\n",
    "tamanho: \n",
    "tempo 15866.245401000022\n",
    "~53 mil instâncias"
   ]
  },
  {
   "cell_type": "code",
   "execution_count": 10,
   "metadata": {},
   "outputs": [
    {
     "data": {
      "text/html": [
       "<div>\n",
       "<style scoped>\n",
       "    .dataframe tbody tr th:only-of-type {\n",
       "        vertical-align: middle;\n",
       "    }\n",
       "\n",
       "    .dataframe tbody tr th {\n",
       "        vertical-align: top;\n",
       "    }\n",
       "\n",
       "    .dataframe thead th {\n",
       "        text-align: right;\n",
       "    }\n",
       "</style>\n",
       "<table border=\"1\" class=\"dataframe\">\n",
       "  <thead>\n",
       "    <tr style=\"text-align: right;\">\n",
       "      <th></th>\n",
       "      <th>tamanho</th>\n",
       "      <th>instâncias</th>\n",
       "      <th>erros</th>\n",
       "      <th>total</th>\n",
       "      <th>tempo</th>\n",
       "    </tr>\n",
       "  </thead>\n",
       "  <tbody>\n",
       "    <tr>\n",
       "      <td>0</td>\n",
       "      <td>25,9MB</td>\n",
       "      <td>52843</td>\n",
       "      <td>189</td>\n",
       "      <td>53032</td>\n",
       "      <td>15866.245401</td>\n",
       "    </tr>\n",
       "  </tbody>\n",
       "</table>\n",
       "</div>"
      ],
      "text/plain": [
       "  tamanho  instâncias  erros  total         tempo\n",
       "0  25,9MB       52843    189  53032  15866.245401"
      ]
     },
     "execution_count": 10,
     "metadata": {},
     "output_type": "execute_result"
    }
   ],
   "source": [
    "pd.DataFrame([\n",
    "        [\"25,9MB\", 52843, 189, 53032, 15866.245401000022 ],\n",
    "    ], columns = [\"tamanho\", \"instâncias\", \"erros\", \"total\",\"tempo\"])"
   ]
  },
  {
   "cell_type": "code",
   "execution_count": 37,
   "metadata": {},
   "outputs": [],
   "source": [
    "raw_dataset = pd.read_csv(f\"{base_folder}/features/data/raw_dataset.csv\", sep=\";\")\n",
    "ordered = raw_dataset.sort_values(by=['timestamp']).sort_values(by=['title'])\n"
   ]
  },
  {
   "cell_type": "code",
   "execution_count": 38,
   "metadata": {},
   "outputs": [
    {
     "data": {
      "text/html": [
       "<div>\n",
       "<style scoped>\n",
       "    .dataframe tbody tr th:only-of-type {\n",
       "        vertical-align: middle;\n",
       "    }\n",
       "\n",
       "    .dataframe tbody tr th {\n",
       "        vertical-align: top;\n",
       "    }\n",
       "\n",
       "    .dataframe thead th {\n",
       "        text-align: right;\n",
       "    }\n",
       "</style>\n",
       "<table border=\"1\" class=\"dataframe\">\n",
       "  <thead>\n",
       "    <tr style=\"text-align: right;\">\n",
       "      <th></th>\n",
       "      <th>title</th>\n",
       "      <th>timestamp</th>\n",
       "      <th>Section count</th>\n",
       "      <th>Subsection count</th>\n",
       "      <th>Complete URL link count</th>\n",
       "      <th>Complete URL link count per section</th>\n",
       "      <th>Complete URL link count per length</th>\n",
       "      <th>Relative URL link count</th>\n",
       "      <th>Relative URL link count per section</th>\n",
       "      <th>Relative URL link count per length</th>\n",
       "      <th>...</th>\n",
       "      <th>Sentences starting with relative pronoums</th>\n",
       "      <th>Sentences starting with subordinating conjunctions</th>\n",
       "      <th>Sentences starting with to be verbs</th>\n",
       "      <th>ARI readability feature</th>\n",
       "      <th>Coleman-Liau readability feature</th>\n",
       "      <th>Flesch Reading Ease Readability Feature</th>\n",
       "      <th>Flesch Kincaid Readability Feature</th>\n",
       "      <th>Gunning Fog Index readability feature</th>\n",
       "      <th>Lasbarhetsindex readability feature</th>\n",
       "      <th>SMOG Grading readability feature</th>\n",
       "    </tr>\n",
       "  </thead>\n",
       "  <tbody>\n",
       "    <tr>\n",
       "      <td>38019</td>\n",
       "      <td>...In Your Eyes</td>\n",
       "      <td>2008-01-06T06:07:27Z</td>\n",
       "      <td>1</td>\n",
       "      <td>2</td>\n",
       "      <td>0</td>\n",
       "      <td>0.0</td>\n",
       "      <td>0.000000</td>\n",
       "      <td>1</td>\n",
       "      <td>1.0</td>\n",
       "      <td>0.002336</td>\n",
       "      <td>...</td>\n",
       "      <td>0</td>\n",
       "      <td>1</td>\n",
       "      <td>0</td>\n",
       "      <td>3.877281</td>\n",
       "      <td>5.499211</td>\n",
       "      <td>52.607281</td>\n",
       "      <td>9.068421</td>\n",
       "      <td>7.171930</td>\n",
       "      <td>17.929825</td>\n",
       "      <td>11.717798</td>\n",
       "    </tr>\n",
       "    <tr>\n",
       "      <td>21835</td>\n",
       "      <td>...In Your Eyes</td>\n",
       "      <td>2007-08-11T20:11:48Z</td>\n",
       "      <td>1</td>\n",
       "      <td>2</td>\n",
       "      <td>0</td>\n",
       "      <td>0.0</td>\n",
       "      <td>0.000000</td>\n",
       "      <td>1</td>\n",
       "      <td>1.0</td>\n",
       "      <td>0.002421</td>\n",
       "      <td>...</td>\n",
       "      <td>0</td>\n",
       "      <td>1</td>\n",
       "      <td>0</td>\n",
       "      <td>3.356000</td>\n",
       "      <td>4.922267</td>\n",
       "      <td>55.403500</td>\n",
       "      <td>8.637000</td>\n",
       "      <td>6.600000</td>\n",
       "      <td>16.500000</td>\n",
       "      <td>11.660254</td>\n",
       "    </tr>\n",
       "    <tr>\n",
       "      <td>17118</td>\n",
       "      <td>...In Your Eyes</td>\n",
       "      <td>2008-03-21T05:49:40Z</td>\n",
       "      <td>1</td>\n",
       "      <td>2</td>\n",
       "      <td>0</td>\n",
       "      <td>0.0</td>\n",
       "      <td>0.000000</td>\n",
       "      <td>1</td>\n",
       "      <td>1.0</td>\n",
       "      <td>0.002336</td>\n",
       "      <td>...</td>\n",
       "      <td>0</td>\n",
       "      <td>1</td>\n",
       "      <td>0</td>\n",
       "      <td>3.877281</td>\n",
       "      <td>5.499211</td>\n",
       "      <td>52.607281</td>\n",
       "      <td>9.068421</td>\n",
       "      <td>7.171930</td>\n",
       "      <td>17.929825</td>\n",
       "      <td>11.717798</td>\n",
       "    </tr>\n",
       "    <tr>\n",
       "      <td>27407</td>\n",
       "      <td>...In Your Eyes</td>\n",
       "      <td>2007-10-16T20:48:32Z</td>\n",
       "      <td>1</td>\n",
       "      <td>2</td>\n",
       "      <td>0</td>\n",
       "      <td>0.0</td>\n",
       "      <td>0.000000</td>\n",
       "      <td>1</td>\n",
       "      <td>1.0</td>\n",
       "      <td>0.002421</td>\n",
       "      <td>...</td>\n",
       "      <td>0</td>\n",
       "      <td>1</td>\n",
       "      <td>0</td>\n",
       "      <td>3.356000</td>\n",
       "      <td>4.922267</td>\n",
       "      <td>55.403500</td>\n",
       "      <td>8.637000</td>\n",
       "      <td>6.600000</td>\n",
       "      <td>16.500000</td>\n",
       "      <td>11.660254</td>\n",
       "    </tr>\n",
       "    <tr>\n",
       "      <td>43422</td>\n",
       "      <td>...In Your Eyes</td>\n",
       "      <td>2007-06-27T04:17:54Z</td>\n",
       "      <td>1</td>\n",
       "      <td>2</td>\n",
       "      <td>0</td>\n",
       "      <td>0.0</td>\n",
       "      <td>0.000000</td>\n",
       "      <td>1</td>\n",
       "      <td>1.0</td>\n",
       "      <td>0.002421</td>\n",
       "      <td>...</td>\n",
       "      <td>0</td>\n",
       "      <td>1</td>\n",
       "      <td>0</td>\n",
       "      <td>3.356000</td>\n",
       "      <td>4.922267</td>\n",
       "      <td>55.403500</td>\n",
       "      <td>8.637000</td>\n",
       "      <td>6.600000</td>\n",
       "      <td>16.500000</td>\n",
       "      <td>11.660254</td>\n",
       "    </tr>\n",
       "    <tr>\n",
       "      <td>...</td>\n",
       "      <td>...</td>\n",
       "      <td>...</td>\n",
       "      <td>...</td>\n",
       "      <td>...</td>\n",
       "      <td>...</td>\n",
       "      <td>...</td>\n",
       "      <td>...</td>\n",
       "      <td>...</td>\n",
       "      <td>...</td>\n",
       "      <td>...</td>\n",
       "      <td>...</td>\n",
       "      <td>...</td>\n",
       "      <td>...</td>\n",
       "      <td>...</td>\n",
       "      <td>...</td>\n",
       "      <td>...</td>\n",
       "      <td>...</td>\n",
       "      <td>...</td>\n",
       "      <td>...</td>\n",
       "      <td>...</td>\n",
       "      <td>...</td>\n",
       "    </tr>\n",
       "    <tr>\n",
       "      <td>21272</td>\n",
       "      <td>Étienne François, duc de Choiseul</td>\n",
       "      <td>2008-05-24T20:46:00Z</td>\n",
       "      <td>0</td>\n",
       "      <td>0</td>\n",
       "      <td>9</td>\n",
       "      <td>9.0</td>\n",
       "      <td>0.001665</td>\n",
       "      <td>68</td>\n",
       "      <td>68.0</td>\n",
       "      <td>0.012579</td>\n",
       "      <td>...</td>\n",
       "      <td>0</td>\n",
       "      <td>4</td>\n",
       "      <td>0</td>\n",
       "      <td>14.571412</td>\n",
       "      <td>11.562665</td>\n",
       "      <td>44.134218</td>\n",
       "      <td>13.628375</td>\n",
       "      <td>14.895580</td>\n",
       "      <td>37.238950</td>\n",
       "      <td>32.883106</td>\n",
       "    </tr>\n",
       "    <tr>\n",
       "      <td>19606</td>\n",
       "      <td>Étienne François, duc de Choiseul</td>\n",
       "      <td>2007-03-30T19:59:38Z</td>\n",
       "      <td>0</td>\n",
       "      <td>0</td>\n",
       "      <td>6</td>\n",
       "      <td>6.0</td>\n",
       "      <td>0.001129</td>\n",
       "      <td>66</td>\n",
       "      <td>66.0</td>\n",
       "      <td>0.012420</td>\n",
       "      <td>...</td>\n",
       "      <td>0</td>\n",
       "      <td>3</td>\n",
       "      <td>0</td>\n",
       "      <td>15.849963</td>\n",
       "      <td>11.184994</td>\n",
       "      <td>38.770665</td>\n",
       "      <td>15.213344</td>\n",
       "      <td>16.127799</td>\n",
       "      <td>40.319498</td>\n",
       "      <td>32.816103</td>\n",
       "    </tr>\n",
       "    <tr>\n",
       "      <td>13080</td>\n",
       "      <td>Étienne François, duc de Choiseul</td>\n",
       "      <td>2007-11-21T12:14:08Z</td>\n",
       "      <td>0</td>\n",
       "      <td>0</td>\n",
       "      <td>8</td>\n",
       "      <td>8.0</td>\n",
       "      <td>0.001477</td>\n",
       "      <td>69</td>\n",
       "      <td>69.0</td>\n",
       "      <td>0.012742</td>\n",
       "      <td>...</td>\n",
       "      <td>0</td>\n",
       "      <td>3</td>\n",
       "      <td>0</td>\n",
       "      <td>16.214167</td>\n",
       "      <td>11.422611</td>\n",
       "      <td>38.581000</td>\n",
       "      <td>15.330889</td>\n",
       "      <td>16.311111</td>\n",
       "      <td>40.777778</td>\n",
       "      <td>33.000000</td>\n",
       "    </tr>\n",
       "    <tr>\n",
       "      <td>40260</td>\n",
       "      <td>Étienne François, duc de Choiseul</td>\n",
       "      <td>2007-02-10T11:58:40Z</td>\n",
       "      <td>0</td>\n",
       "      <td>0</td>\n",
       "      <td>6</td>\n",
       "      <td>6.0</td>\n",
       "      <td>0.001159</td>\n",
       "      <td>66</td>\n",
       "      <td>66.0</td>\n",
       "      <td>0.012746</td>\n",
       "      <td>...</td>\n",
       "      <td>0</td>\n",
       "      <td>3</td>\n",
       "      <td>0</td>\n",
       "      <td>15.575966</td>\n",
       "      <td>11.196774</td>\n",
       "      <td>43.230001</td>\n",
       "      <td>14.442300</td>\n",
       "      <td>15.838362</td>\n",
       "      <td>39.595905</td>\n",
       "      <td>32.512709</td>\n",
       "    </tr>\n",
       "    <tr>\n",
       "      <td>27905</td>\n",
       "      <td>Étienne François, duc de Choiseul</td>\n",
       "      <td>2008-11-09T00:49:48Z</td>\n",
       "      <td>0</td>\n",
       "      <td>0</td>\n",
       "      <td>9</td>\n",
       "      <td>9.0</td>\n",
       "      <td>0.001655</td>\n",
       "      <td>60</td>\n",
       "      <td>60.0</td>\n",
       "      <td>0.011033</td>\n",
       "      <td>...</td>\n",
       "      <td>0</td>\n",
       "      <td>4</td>\n",
       "      <td>0</td>\n",
       "      <td>14.643544</td>\n",
       "      <td>11.567194</td>\n",
       "      <td>43.423495</td>\n",
       "      <td>13.764040</td>\n",
       "      <td>14.974505</td>\n",
       "      <td>37.436264</td>\n",
       "      <td>32.966648</td>\n",
       "    </tr>\n",
       "  </tbody>\n",
       "</table>\n",
       "<p>52842 rows × 60 columns</p>\n",
       "</div>"
      ],
      "text/plain": [
       "                                   title             timestamp  Section count  \\\n",
       "38019                    ...In Your Eyes  2008-01-06T06:07:27Z              1   \n",
       "21835                    ...In Your Eyes  2007-08-11T20:11:48Z              1   \n",
       "17118                    ...In Your Eyes  2008-03-21T05:49:40Z              1   \n",
       "27407                    ...In Your Eyes  2007-10-16T20:48:32Z              1   \n",
       "43422                    ...In Your Eyes  2007-06-27T04:17:54Z              1   \n",
       "...                                  ...                   ...            ...   \n",
       "21272  Étienne François, duc de Choiseul  2008-05-24T20:46:00Z              0   \n",
       "19606  Étienne François, duc de Choiseul  2007-03-30T19:59:38Z              0   \n",
       "13080  Étienne François, duc de Choiseul  2007-11-21T12:14:08Z              0   \n",
       "40260  Étienne François, duc de Choiseul  2007-02-10T11:58:40Z              0   \n",
       "27905  Étienne François, duc de Choiseul  2008-11-09T00:49:48Z              0   \n",
       "\n",
       "       Subsection count  Complete URL link count  \\\n",
       "38019                 2                        0   \n",
       "21835                 2                        0   \n",
       "17118                 2                        0   \n",
       "27407                 2                        0   \n",
       "43422                 2                        0   \n",
       "...                 ...                      ...   \n",
       "21272                 0                        9   \n",
       "19606                 0                        6   \n",
       "13080                 0                        8   \n",
       "40260                 0                        6   \n",
       "27905                 0                        9   \n",
       "\n",
       "       Complete URL link count per section  \\\n",
       "38019                                  0.0   \n",
       "21835                                  0.0   \n",
       "17118                                  0.0   \n",
       "27407                                  0.0   \n",
       "43422                                  0.0   \n",
       "...                                    ...   \n",
       "21272                                  9.0   \n",
       "19606                                  6.0   \n",
       "13080                                  8.0   \n",
       "40260                                  6.0   \n",
       "27905                                  9.0   \n",
       "\n",
       "       Complete URL link count per length  Relative URL link count  \\\n",
       "38019                            0.000000                        1   \n",
       "21835                            0.000000                        1   \n",
       "17118                            0.000000                        1   \n",
       "27407                            0.000000                        1   \n",
       "43422                            0.000000                        1   \n",
       "...                                   ...                      ...   \n",
       "21272                            0.001665                       68   \n",
       "19606                            0.001129                       66   \n",
       "13080                            0.001477                       69   \n",
       "40260                            0.001159                       66   \n",
       "27905                            0.001655                       60   \n",
       "\n",
       "       Relative URL link count per section  \\\n",
       "38019                                  1.0   \n",
       "21835                                  1.0   \n",
       "17118                                  1.0   \n",
       "27407                                  1.0   \n",
       "43422                                  1.0   \n",
       "...                                    ...   \n",
       "21272                                 68.0   \n",
       "19606                                 66.0   \n",
       "13080                                 69.0   \n",
       "40260                                 66.0   \n",
       "27905                                 60.0   \n",
       "\n",
       "       Relative URL link count per length  ...  \\\n",
       "38019                            0.002336  ...   \n",
       "21835                            0.002421  ...   \n",
       "17118                            0.002336  ...   \n",
       "27407                            0.002421  ...   \n",
       "43422                            0.002421  ...   \n",
       "...                                   ...  ...   \n",
       "21272                            0.012579  ...   \n",
       "19606                            0.012420  ...   \n",
       "13080                            0.012742  ...   \n",
       "40260                            0.012746  ...   \n",
       "27905                            0.011033  ...   \n",
       "\n",
       "       Sentences starting with relative pronoums  \\\n",
       "38019                                          0   \n",
       "21835                                          0   \n",
       "17118                                          0   \n",
       "27407                                          0   \n",
       "43422                                          0   \n",
       "...                                          ...   \n",
       "21272                                          0   \n",
       "19606                                          0   \n",
       "13080                                          0   \n",
       "40260                                          0   \n",
       "27905                                          0   \n",
       "\n",
       "       Sentences starting with subordinating conjunctions  \\\n",
       "38019                                                  1    \n",
       "21835                                                  1    \n",
       "17118                                                  1    \n",
       "27407                                                  1    \n",
       "43422                                                  1    \n",
       "...                                                  ...    \n",
       "21272                                                  4    \n",
       "19606                                                  3    \n",
       "13080                                                  3    \n",
       "40260                                                  3    \n",
       "27905                                                  4    \n",
       "\n",
       "       Sentences starting with to be verbs  ARI readability feature  \\\n",
       "38019                                    0                 3.877281   \n",
       "21835                                    0                 3.356000   \n",
       "17118                                    0                 3.877281   \n",
       "27407                                    0                 3.356000   \n",
       "43422                                    0                 3.356000   \n",
       "...                                    ...                      ...   \n",
       "21272                                    0                14.571412   \n",
       "19606                                    0                15.849963   \n",
       "13080                                    0                16.214167   \n",
       "40260                                    0                15.575966   \n",
       "27905                                    0                14.643544   \n",
       "\n",
       "       Coleman-Liau readability feature  \\\n",
       "38019                          5.499211   \n",
       "21835                          4.922267   \n",
       "17118                          5.499211   \n",
       "27407                          4.922267   \n",
       "43422                          4.922267   \n",
       "...                                 ...   \n",
       "21272                         11.562665   \n",
       "19606                         11.184994   \n",
       "13080                         11.422611   \n",
       "40260                         11.196774   \n",
       "27905                         11.567194   \n",
       "\n",
       "       Flesch Reading Ease Readability Feature  \\\n",
       "38019                                52.607281   \n",
       "21835                                55.403500   \n",
       "17118                                52.607281   \n",
       "27407                                55.403500   \n",
       "43422                                55.403500   \n",
       "...                                        ...   \n",
       "21272                                44.134218   \n",
       "19606                                38.770665   \n",
       "13080                                38.581000   \n",
       "40260                                43.230001   \n",
       "27905                                43.423495   \n",
       "\n",
       "       Flesch Kincaid Readability Feature  \\\n",
       "38019                            9.068421   \n",
       "21835                            8.637000   \n",
       "17118                            9.068421   \n",
       "27407                            8.637000   \n",
       "43422                            8.637000   \n",
       "...                                   ...   \n",
       "21272                           13.628375   \n",
       "19606                           15.213344   \n",
       "13080                           15.330889   \n",
       "40260                           14.442300   \n",
       "27905                           13.764040   \n",
       "\n",
       "       Gunning Fog Index readability feature  \\\n",
       "38019                               7.171930   \n",
       "21835                               6.600000   \n",
       "17118                               7.171930   \n",
       "27407                               6.600000   \n",
       "43422                               6.600000   \n",
       "...                                      ...   \n",
       "21272                              14.895580   \n",
       "19606                              16.127799   \n",
       "13080                              16.311111   \n",
       "40260                              15.838362   \n",
       "27905                              14.974505   \n",
       "\n",
       "       Lasbarhetsindex readability feature  SMOG Grading readability feature  \n",
       "38019                            17.929825                         11.717798  \n",
       "21835                            16.500000                         11.660254  \n",
       "17118                            17.929825                         11.717798  \n",
       "27407                            16.500000                         11.660254  \n",
       "43422                            16.500000                         11.660254  \n",
       "...                                    ...                               ...  \n",
       "21272                            37.238950                         32.883106  \n",
       "19606                            40.319498                         32.816103  \n",
       "13080                            40.777778                         33.000000  \n",
       "40260                            39.595905                         32.512709  \n",
       "27905                            37.436264                         32.966648  \n",
       "\n",
       "[52842 rows x 60 columns]"
      ]
     },
     "execution_count": 38,
     "metadata": {},
     "output_type": "execute_result"
    }
   ],
   "source": [
    "ordered"
   ]
  },
  {
   "cell_type": "code",
   "execution_count": 5,
   "metadata": {},
   "outputs": [],
   "source": [
    "#import pandas as pd\n",
    "#data= pd.read_csv(\"stats.csv\")\n",
    "#data.hist(bins=3)\n",
    "#data[\"distinct_revisions\"].sort(data[\"distinct_revisions\"]).value_counts()"
   ]
  },
  {
   "cell_type": "code",
   "execution_count": 6,
   "metadata": {},
   "outputs": [],
   "source": [
    "#import pandas as pd\n",
    "#data= pd.read_csv(\"stats2.csv\")\n",
    "#data\n",
    "#data.hist(bins=3)\n",
    "#data.sort_values(by=['distinct_revisions'])['distinct_revisions'].value_counts()/3212\n",
    "#data[\"distinct_revisions\"].sort(data[\"distinct_revisions\"])value_counts()"
   ]
  },
  {
   "cell_type": "code",
   "execution_count": 7,
   "metadata": {},
   "outputs": [
    {
     "name": "stdout",
     "output_type": "stream",
     "text": [
      "Erros na primeira coleta : 0.3270042194092827\n",
      "Erros na segunda coleta : 0.4838709677419355\n",
      "Erros totais : 0.15822784810126583\n",
      "Coletados completamente ou parcialmente : 0.8417721518987342\n"
     ]
    }
   ],
   "source": [
    "def info_stats(total, titles_not_collected_completed, titles_not_colleted_even_parcially):\n",
    "    #total = 3294\n",
    "    #titles_not_collected_completed = 1386 # or errors from collecting completly\n",
    "\n",
    "    #titles_not_colleted_even_parcially = 455 # or error from collecting partilly\n",
    "\n",
    "    erros_first_collection = titles_not_collected_completed/total\n",
    "    print(f\"Erros na primeira coleta : {erros_first_collection}\")\n",
    "\n",
    "    erros_second_collection = titles_not_colleted_even_parcially/titles_not_collected_completed\n",
    "    print(f\"Erros na segunda coleta : {erros_second_collection}\") \n",
    "\n",
    "    total_errors = (titles_not_colleted_even_parcially)/total\n",
    "    print(f\"Erros totais : {total_errors}\") \n",
    "    collected_total = 1 - total_errors\n",
    "\n",
    "    print(f\"Coletados completamente ou parcialmente : {collected_total}\") \n",
    "\n",
    "def info_stats_i(title):\n",
    "    row = info_meta[info_meta[\"file\"]==title]\n",
    "    info_stats(row[\"collected\"].values[0], row[\"partially collected\"].values[0], row[\"errors\"].values[0])\n",
    "    \n",
    "    \n",
    "info_stats_i(\"revision_info_200701-200901\")"
   ]
  },
  {
   "cell_type": "markdown",
   "metadata": {},
   "source": [
    "## Análise da primeira coleta\n",
    "first_collection_folder = \"../collected_data/revision_info_2007-2009\"\n",
    "\n",
    "first_collection"
   ]
  },
  {
   "cell_type": "markdown",
   "metadata": {},
   "source": [
    "\n",
    "https://en.wikipedia.org/api/rest_v1/#/Page%20content\n",
    "\n",
    "https://wikimedia.org/api/rest_v1/#/\n",
    "\n",
    "https://en.wikipedia.org/w/api.php\n",
    "\n",
    "para brincar com a API por meio de interface gráfica\n",
    "https://en.wikipedia.org/wiki/Special:ApiSandbox\n",
    "\n",
    "\n",
    "https://datasets.wikimedia.org/public-datasets/enwiki/article_quality/wp10-scores-enwiki-20160820.tsv.bz2\n",
    "\n",
    "https://en.wikipedia.org/w/index.php?title=Brazil&dir=prev&action=history usar o view history"
   ]
  },
  {
   "cell_type": "markdown",
   "metadata": {},
   "source": [
    "A coleta realizada de 2019 à 2014 resultou em sem tempo sleep"
   ]
  },
  {
   "cell_type": "code",
   "execution_count": null,
   "metadata": {},
   "outputs": [],
   "source": [
    "titles_not_collect_2 = 1855\n",
    "percentage = titles_not_collect_2/total\n",
    "percentage"
   ]
  },
  {
   "cell_type": "markdown",
   "metadata": {},
   "source": [
    "Ler sobre ORES\n",
    "https://blog.wikimedia.org/2016/10/27/wikipedia-quality-trends-dataset/#cite1\n",
    "https://wikiedu.org/blog/2016/09/16/visualizing-article-history-with-structural-completeness/\n",
    "\n",
    "https://github.com/wikimedia/revscoring/blob/master/ipython/hashing_vectorizer.ipynb"
   ]
  },
  {
   "cell_type": "markdown",
   "metadata": {},
   "source": [
    "Coleta realizada de 2019 à 2017"
   ]
  },
  {
   "cell_type": "code",
   "execution_count": 11,
   "metadata": {},
   "outputs": [],
   "source": [
    "ittles = !ls ~/Documents/tcc-collected-data/data/content_200701_200901_html/data"
   ]
  },
  {
   "cell_type": "code",
   "execution_count": 12,
   "metadata": {},
   "outputs": [
    {
     "data": {
      "text/plain": [
       "53023"
      ]
     },
     "execution_count": 12,
     "metadata": {},
     "output_type": "execute_result"
    }
   ],
   "source": [
    "len(ittles)"
   ]
  }
 ],
 "metadata": {
  "kernelspec": {
   "display_name": "Python 3",
   "language": "python",
   "name": "python3"
  },
  "language_info": {
   "codemirror_mode": {
    "name": "ipython",
    "version": 3
   },
   "file_extension": ".py",
   "mimetype": "text/x-python",
   "name": "python",
   "nbconvert_exporter": "python",
   "pygments_lexer": "ipython3",
   "version": "3.7.4"
  }
 },
 "nbformat": 4,
 "nbformat_minor": 2
}
