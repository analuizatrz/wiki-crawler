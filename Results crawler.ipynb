{
 "cells": [
  {
   "cell_type": "markdown",
   "metadata": {},
   "source": [
    "## Resultados\n",
    "\n",
    "## Coleta de infos\n",
    "\n",
    "1. A coleta realizada de 2009 à 2007 resultou em 1908 ou (1920) e erros (1386) (revision_info_2007-2009)\n",
    "2. coleta dos artigos com erro, que tem mais rvcontinue (926) e erros (455)\n",
    "3. A coleta de 2009 à 2007 resultou em 930 coletados não completamente e 450 erros\n",
    "\n",
    "pode-se ver isso executando os comandos `ls -l data | wc -l` para obter o número de páginas coletadas e `cat errors.csv | wc -l` para obter o número de páginas com erro, nas pastas das coletas correspondentes.\n",
    "\n",
    "## Coleta de conteúdos\n",
    "\n"
   ]
  },
  {
   "cell_type": "code",
   "execution_count": 2,
   "metadata": {},
   "outputs": [],
   "source": [
    "import pandas as pd"
   ]
  },
  {
   "cell_type": "code",
   "execution_count": 28,
   "metadata": {
    "scrolled": true
   },
   "outputs": [
    {
     "data": {
      "text/html": [
       "<div>\n",
       "<style scoped>\n",
       "    .dataframe tbody tr th:only-of-type {\n",
       "        vertical-align: middle;\n",
       "    }\n",
       "\n",
       "    .dataframe tbody tr th {\n",
       "        vertical-align: top;\n",
       "    }\n",
       "\n",
       "    .dataframe thead th {\n",
       "        text-align: right;\n",
       "    }\n",
       "</style>\n",
       "<table border=\"1\" class=\"dataframe\">\n",
       "  <thead>\n",
       "    <tr style=\"text-align: right;\">\n",
       "      <th></th>\n",
       "      <th>file</th>\n",
       "      <th>collected</th>\n",
       "      <th>partially collected</th>\n",
       "      <th>errors</th>\n",
       "      <th>total</th>\n",
       "      <th>missing</th>\n",
       "      <th>descarted</th>\n",
       "    </tr>\n",
       "  </thead>\n",
       "  <tbody>\n",
       "    <tr>\n",
       "      <td>0</td>\n",
       "      <td>revision_info_2007-2009</td>\n",
       "      <td>2846</td>\n",
       "      <td>926</td>\n",
       "      <td>455</td>\n",
       "      <td>3306</td>\n",
       "      <td>-12</td>\n",
       "      <td>sim</td>\n",
       "    </tr>\n",
       "    <tr>\n",
       "      <td>1</td>\n",
       "      <td>revision_info_201707-201907</td>\n",
       "      <td>1474</td>\n",
       "      <td>0</td>\n",
       "      <td>1821</td>\n",
       "      <td>3294</td>\n",
       "      <td>-1</td>\n",
       "      <td>sim</td>\n",
       "    </tr>\n",
       "    <tr>\n",
       "      <td>2</td>\n",
       "      <td>revision_info_200701-200901</td>\n",
       "      <td>2844</td>\n",
       "      <td>930</td>\n",
       "      <td>450</td>\n",
       "      <td>3294</td>\n",
       "      <td>-1</td>\n",
       "      <td>não</td>\n",
       "    </tr>\n",
       "    <tr>\n",
       "      <td>3</td>\n",
       "      <td>revision_info_200701-200901-errors</td>\n",
       "      <td>368</td>\n",
       "      <td>144</td>\n",
       "      <td>82</td>\n",
       "      <td>450</td>\n",
       "      <td>0</td>\n",
       "      <td>não</td>\n",
       "    </tr>\n",
       "    <tr>\n",
       "      <td>4</td>\n",
       "      <td>revision_info_200701-200901 uniao -errors</td>\n",
       "      <td>3212</td>\n",
       "      <td>1074</td>\n",
       "      <td>82</td>\n",
       "      <td>450</td>\n",
       "      <td>0</td>\n",
       "      <td>não</td>\n",
       "    </tr>\n",
       "  </tbody>\n",
       "</table>\n",
       "</div>"
      ],
      "text/plain": [
       "                                        file  collected  partially collected  \\\n",
       "0                    revision_info_2007-2009       2846                  926   \n",
       "1                revision_info_201707-201907       1474                    0   \n",
       "2                revision_info_200701-200901       2844                  930   \n",
       "3         revision_info_200701-200901-errors        368                  144   \n",
       "4  revision_info_200701-200901 uniao -errors       3212                 1074   \n",
       "\n",
       "   errors  total  missing descarted  \n",
       "0     455   3306      -12       sim  \n",
       "1    1821   3294       -1       sim  \n",
       "2     450   3294       -1       não  \n",
       "3      82    450        0       não  \n",
       "4      82    450        0       não  "
      ]
     },
     "execution_count": 28,
     "metadata": {},
     "output_type": "execute_result"
    }
   ],
   "source": [
    "info_meta = pd.DataFrame([[\"revision_info_2007-2009\", 2846, 926, 455, 3306, -12, \"sim\"],\n",
    "           #   [\"erros_partially_revision_info_200701-200901\", 926, 455, 1386, 5, \"sim\"],\n",
    "              [\"revision_info_201707-201907\", 1474, 0, 1821, 3294, -1, \"sim\" ],\n",
    "              [\"revision_info_200701-200901\", 2844, 930, 450, 3294, -1, \"não\" ],\n",
    "              [\"revision_info_200701-200901-errors\",368,144, 82, 450, 0, \"não\"],\n",
    "              [\"revision_info_200701-200901 uniao -errors\",3212,1074, 82, 450, 0, \"não\"],\n",
    "             ], columns = [\"file\", \"collected\", \"partially collected\", \"errors\", \"total\", \"missing\", \"descarted\"]\n",
    "            )\n",
    "info_meta"
   ]
  },
  {
   "cell_type": "code",
   "execution_count": null,
   "metadata": {},
   "outputs": [],
   "source": [
    "Métricas dos 3212 artigos (quantidade de revisões distintas)"
   ]
  },
  {
   "cell_type": "code",
   "execution_count": 21,
   "metadata": {},
   "outputs": [
    {
     "data": {
      "text/html": [
       "<div>\n",
       "<style scoped>\n",
       "    .dataframe tbody tr th:only-of-type {\n",
       "        vertical-align: middle;\n",
       "    }\n",
       "\n",
       "    .dataframe tbody tr th {\n",
       "        vertical-align: top;\n",
       "    }\n",
       "\n",
       "    .dataframe thead th {\n",
       "        text-align: right;\n",
       "    }\n",
       "</style>\n",
       "<table border=\"1\" class=\"dataframe\">\n",
       "  <thead>\n",
       "    <tr style=\"text-align: right;\">\n",
       "      <th></th>\n",
       "      <th>métrica</th>\n",
       "      <th>valor</th>\n",
       "    </tr>\n",
       "  </thead>\n",
       "  <tbody>\n",
       "    <tr>\n",
       "      <td>0</td>\n",
       "      <td>média</td>\n",
       "      <td>16.448822</td>\n",
       "    </tr>\n",
       "    <tr>\n",
       "      <td>1</td>\n",
       "      <td>min</td>\n",
       "      <td>1.000000</td>\n",
       "    </tr>\n",
       "    <tr>\n",
       "      <td>2</td>\n",
       "      <td>max</td>\n",
       "      <td>24.000000</td>\n",
       "    </tr>\n",
       "    <tr>\n",
       "      <td>3</td>\n",
       "      <td>std</td>\n",
       "      <td>7.517872</td>\n",
       "    </tr>\n",
       "  </tbody>\n",
       "</table>\n",
       "</div>"
      ],
      "text/plain": [
       "  métrica      valor\n",
       "0   média  16.448822\n",
       "1     min   1.000000\n",
       "2     max  24.000000\n",
       "3     std   7.517872"
      ]
     },
     "execution_count": 21,
     "metadata": {},
     "output_type": "execute_result"
    }
   ],
   "source": [
    "pd.DataFrame(\n",
    "    [[\"média\", 16.353783867953908],\n",
    "    [\"min\", 1],\n",
    "    [\"max\", 24],\n",
    "    [\"std\", 7.566158906605211]], columns=[\"métrica\", \"valor\"]\n",
    ")\n"
   ]
  },
  {
   "cell_type": "code",
   "execution_count": 24,
   "metadata": {},
   "outputs": [
    {
     "name": "stdout",
     "output_type": "stream",
     "text": [
      "Erros na primeira coleta : 0.3270042194092827\n",
      "Erros na segunda coleta : 0.4838709677419355\n",
      "Erros totais : 0.15822784810126583\n",
      "Coletados completamente ou parcialmente : 0.8417721518987342\n"
     ]
    }
   ],
   "source": [
    "def info_stats(total, titles_not_collected_completed, titles_not_colleted_even_parcially):\n",
    "    #total = 3294\n",
    "    #titles_not_collected_completed = 1386 # or errors from collecting completly\n",
    "\n",
    "    #titles_not_colleted_even_parcially = 455 # or error from collecting partilly\n",
    "\n",
    "    erros_first_collection = titles_not_collected_completed/total\n",
    "    print(f\"Erros na primeira coleta : {erros_first_collection}\")\n",
    "\n",
    "    erros_second_collection = titles_not_colleted_even_parcially/titles_not_collected_completed\n",
    "    print(f\"Erros na segunda coleta : {erros_second_collection}\") \n",
    "\n",
    "    total_errors = (titles_not_colleted_even_parcially)/total\n",
    "    print(f\"Erros totais : {total_errors}\") \n",
    "    collected_total = 1 - total_errors\n",
    "\n",
    "    print(f\"Coletados completamente ou parcialmente : {collected_total}\") \n",
    "\n",
    "def info_stats_i(title):\n",
    "    row = info_meta[info_meta[\"file\"]==title]\n",
    "    info_stats(row[\"collected\"].values[0], row[\"partially collected\"].values[0], row[\"errors\"].values[0])\n",
    "    \n",
    "    \n",
    "info_stats_i(\"revision_info_200701-200901\")"
   ]
  },
  {
   "cell_type": "markdown",
   "metadata": {},
   "source": [
    "## Análise da primeira coleta\n",
    "first_collection_folder = \"../collected_data/revision_info_2007-2009\"\n",
    "\n",
    "first_collection"
   ]
  },
  {
   "cell_type": "code",
   "execution_count": null,
   "metadata": {},
   "outputs": [],
   "source": [
    "def analize(collection_folder):\n",
    "    #data = pd.read_csv(f\"{collection_folder}/data.csv\", sep=\";\")\n",
    "    errors = pd.read_csv(\"teste_output\")\n",
    "    \n",
    "    return data, errors\n",
    "\n",
    "first_collection_folder = \"../collected_data/before_quoting/revision_info_2007-2009\"\n",
    "data, errors = analize(first_collection_folder)"
   ]
  },
  {
   "cell_type": "markdown",
   "metadata": {},
   "source": [
    "\n",
    "https://en.wikipedia.org/api/rest_v1/#/Page%20content\n",
    "\n",
    "https://wikimedia.org/api/rest_v1/#/\n",
    "\n",
    "https://en.wikipedia.org/w/api.php\n",
    "\n",
    "para brincar com a API por meio de interface gráfica\n",
    "https://en.wikipedia.org/wiki/Special:ApiSandbox\n",
    "\n",
    "\n",
    "https://datasets.wikimedia.org/public-datasets/enwiki/article_quality/wp10-scores-enwiki-20160820.tsv.bz2"
   ]
  },
  {
   "cell_type": "markdown",
   "metadata": {},
   "source": [
    "A coleta realizada de 2019 à 2014 resultou em sem tempo sleep"
   ]
  },
  {
   "cell_type": "code",
   "execution_count": 5,
   "metadata": {},
   "outputs": [
    {
     "data": {
      "text/plain": [
       "0.5631451123254402"
      ]
     },
     "execution_count": 5,
     "metadata": {},
     "output_type": "execute_result"
    }
   ],
   "source": [
    "titles_not_collect_2 = 1855\n",
    "percentage = titles_not_collect_2/total\n",
    "percentage"
   ]
  },
  {
   "cell_type": "markdown",
   "metadata": {},
   "source": [
    "Ler sobre ORES\n",
    "https://blog.wikimedia.org/2016/10/27/wikipedia-quality-trends-dataset/#cite1\n",
    "https://wikiedu.org/blog/2016/09/16/visualizing-article-history-with-structural-completeness/\n",
    "\n",
    "https://github.com/wikimedia/revscoring/blob/master/ipython/hashing_vectorizer.ipynb"
   ]
  },
  {
   "cell_type": "markdown",
   "metadata": {},
   "source": [
    "Coleta realizada de 2019 à 2017"
   ]
  }
 ],
 "metadata": {
  "kernelspec": {
   "display_name": "Python 3",
   "language": "python",
   "name": "python3"
  },
  "language_info": {
   "codemirror_mode": {
    "name": "ipython",
    "version": 3
   },
   "file_extension": ".py",
   "mimetype": "text/x-python",
   "name": "python",
   "nbconvert_exporter": "python",
   "pygments_lexer": "ipython3",
   "version": "3.7.4"
  }
 },
 "nbformat": 4,
 "nbformat_minor": 2
}
