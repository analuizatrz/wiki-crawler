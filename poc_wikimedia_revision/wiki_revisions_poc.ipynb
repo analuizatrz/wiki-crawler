{
 "cells": [
  {
   "cell_type": "code",
   "execution_count": null,
   "metadata": {},
   "outputs": [],
   "source": [
    "import pandas as pd\n",
    "\n",
    "dataset = pd.read_csv('wikipedia_dataset_hasan/wikipedia.csv')"
   ]
  },
  {
   "cell_type": "code",
   "execution_count": null,
   "metadata": {},
   "outputs": [],
   "source": [
    "titles = pd.DataFrame(dataset, columns = ['page_title']).head(5)\n",
    "\n",
    "titles.to_csv('wikipages.txt', index=None, header=None)\n",
    "\n",
    "titles"
   ]
  },
  {
   "cell_type": "code",
   "execution_count": null,
   "metadata": {
    "scrolled": false
   },
   "outputs": [],
   "source": [
    "from wiki_revision_crawler import get_revisions_info, date_range_monthly, parse_revisions_info_monthly\n",
    "\n",
    "date_start = \"2017-10-01T00:00:00Z\"\n",
    "date_end = \"2017-8-01T00:00:00Z\"\n",
    " \n",
    "print(date_range_monthly(date_end, date_start))\n",
    "\n",
    "date_start = \"2009-01-03T00:00:00Z\"\n",
    "date_end = \"2007-01-03T00:00:00Z\"\n",
    "\n",
    "response = get_revisions_info(\"Casino Royale (2006 film)\", date_start, date_end)\n",
    "print(response)\n",
    "\n",
    "revisions_info = parse_revisions_info_monthly(response, date_start, date_end)\n",
    "# print(revisions_info)\n",
    "\n",
    "# with open(\"response.json\", 'w') as fp:\n",
    "#     json.dump(content, fp)"
   ]
  },
  {
   "cell_type": "code",
   "execution_count": null,
   "metadata": {},
   "outputs": [],
   "source": [
    "import json\n",
    "with open(\"response.json\", 'w') as fp:\n",
    "    json.dump(response, fp)"
   ]
  },
  {
   "cell_type": "code",
   "execution_count": null,
   "metadata": {},
   "outputs": [],
   "source": [
    "import datetime\n",
    "import dateutil.parser\n",
    "\n",
    "def parse_date(date):\n",
    "    \"\"\"Parse date from ISO 8601 format to datetime\n",
    " \n",
    "    Parameters:\n",
    "        date (str): date in the format ISO 8601: 2001-01-15T14:56:00Z\n",
    "        \n",
    "    Returns:\n",
    "        date (datetime): date parsed\n",
    "\n",
    "    \"\"\"\n",
    "    return dateutil.parser.parse(date)\n",
    "\n",
    "def format_date(date):\n",
    "    \"\"\"Format date ISO 8601 (i.e. 2001-01-15T14:56:00Z)\n",
    " \n",
    "    Parameters:\n",
    "        date (datetime): date\n",
    "        \n",
    "    Returns:\n",
    "        date (str): ISO 8601 formatted date\n",
    "    \n",
    "    \"\"\"\n",
    "    s = \"%Y-%m-%dT%H:%M:%SZ\"\n",
    "    return date.strftime(s)\n",
    "\n",
    "date_idx=0\n",
    "dates = pd.date_range(\"2017-01-03T01:32:59Z\",\"2017-04-03T01:32:59Z\", freq='MS').strftime(\"%Y-%m-%dT%H:%M:%SZ\").tolist()\n",
    "\n",
    "while date_idx < len(dates):\n",
    "    print(dates[date_idx])\n",
    "    date_idx += 1"
   ]
  },
  {
   "cell_type": "code",
   "execution_count": null,
   "metadata": {},
   "outputs": [],
   "source": [
    "from pandas.io.json import json_normalize\n",
    "\n",
    "#revisions = data[\"query\"][\"pages\"][page_id][\"revisions\"]\n",
    "#revisions = list(data[\"query\"][\"pages\"].values())[0][\"revisions\"]\n",
    "\n",
    "json_normalize(revisions_info)"
   ]
  },
  {
   "cell_type": "code",
   "execution_count": null,
   "metadata": {
    "scrolled": false
   },
   "outputs": [],
   "source": [
    "import requests\n",
    "\n",
    "S = requests.Session()\n",
    "URL = \"https://en.wikipedia.org/w/api.php\"\n",
    "\n",
    "def get_revision(title, access_date):\n",
    "    # title = \"Procellariidae\"\n",
    "    # date = \"2017-04-03T01:32:59.000Z\"\n",
    "    params = {\n",
    "        \"action\": \"query\",\n",
    "        \"prop\": \"revisions\",\n",
    "        \"titles\": title,\n",
    "        \"rvprop\": \"timestamp|user|comment|content|ids\",\n",
    "        \"rvslots\": \"main\",\n",
    "        \"formatversion\": \"2\",\n",
    "        \"format\": \"json\",\n",
    "        \"rvlimit\": 1,\n",
    "        \"rvstart\": access_date,\n",
    "        \"rvdir\": \"older\",\n",
    "    }\n",
    "\n",
    "    response = S.get(url=URL, params=params)\n",
    "    \n",
    "    return response.json()\n",
    "\n",
    "def parse_revision_response(response, date):\n",
    "    page = list(response[\"query\"][\"pages\"])[0]\n",
    "    revision = list(page[\"revisions\"])[0]\n",
    "    return (page[\"pageid\"], page[\"title\"], revision[\"user\"], revision[\"timestamp\"], revision[\"comment\"], revision[\"slots\"][\"main\"][\"content\"])\n",
    "\n",
    "date = \"2009-01-03T00:00:00.000Z\"\n",
    "response = get_revision(\"Procellariidae\", date)\n",
    "#parse_revision_response(response, date)\n",
    "#category = parse_revision_category_content(response)\n",
    "page = list(response[\"query\"][\"pages\"])[0]\n",
    "revision = list(page[\"revisions\"])[0]\n",
    "content = revision[\"slots\"][\"main\"][\"content\"]\n",
    "content"
   ]
  },
  {
   "cell_type": "code",
   "execution_count": null,
   "metadata": {},
   "outputs": [],
   "source": [
    "def parse_revision_category_content(text):\n",
    "    classes = []\n",
    "    if text is not None:\n",
    "        lines = text.replace(\"{{\",\"}}\").replace(\"\\n\",\"\").split(\"}}\")\n",
    "        for line in lines:\n",
    "            if \"class\" in line:\n",
    "                print(line)\n",
    "                atributes = line.split(\"|\")\n",
    "                wiki_project = \"\"\n",
    "                wiki_class = \"-\"\n",
    "                for idx, atribute in enumerate(atributes):\n",
    "                    atribute_values = atribute.split(\"=\")\n",
    "                    if idx == 0:\n",
    "                        wiki_project = atribute_values[0]\n",
    "                    if atribute_values[0] == \"class\" and len(atribute_values) > 1 :\n",
    "                        wiki_class = atribute_values[1]\n",
    "                classes.append((wiki_project, wiki_class))\n",
    "    return classes\n",
    "parse_revision_category_content(content)"
   ]
  }
 ],
 "metadata": {
  "kernelspec": {
   "display_name": "Python 3",
   "language": "python",
   "name": "python3"
  },
  "language_info": {
   "codemirror_mode": {
    "name": "ipython",
    "version": 3
   },
   "file_extension": ".py",
   "mimetype": "text/x-python",
   "name": "python",
   "nbconvert_exporter": "python",
   "pygments_lexer": "ipython3",
   "version": "3.7.3"
  }
 },
 "nbformat": 4,
 "nbformat_minor": 2
}
