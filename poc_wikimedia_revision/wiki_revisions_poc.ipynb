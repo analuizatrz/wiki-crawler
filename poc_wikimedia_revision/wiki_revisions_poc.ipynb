{
 "cells": [
  {
   "cell_type": "markdown",
   "metadata": {},
   "source": [
    "# Coletando revisões da API da Wikipédia\n",
    "\n",
    "A wikipédia disponibiliza algumas formas de coletar seus dados. \n",
    "Pode-se brincar bastante com essa API por meio da interface https://meta.wikimedia.org/wiki/Special:ApiSandbox.\n",
    "para a realização destes exemplos os parâmetros foram escolhidos nesse sandbox e depois passados para cá.\n",
    "\n",
    "Os artigos utilizados como exemplo fazem parte do dataset da dissertação do Professor Daniel Hassan."
   ]
  },
  {
   "cell_type": "code",
   "execution_count": null,
   "metadata": {},
   "outputs": [],
   "source": [
    "import pandas as pd\n",
    "\n",
    "dataset = pd.read_csv('wikipedia_dataset_hasan/wikipedia.csv')\n",
    "titles = pd.DataFrame(dataset, columns = ['page_title']).head(5).values\n",
    "titles"
   ]
  },
  {
   "cell_type": "markdown",
   "metadata": {},
   "source": [
    "Abaixo um exemplo de uso da API da wikipédia. O paramêtro \"format\" como json faz com que o retorno venha no formato de dicionário em python, ao invés de xml ou html, que é mais fácil de ser manipulado."
   ]
  },
  {
   "cell_type": "code",
   "execution_count": null,
   "metadata": {},
   "outputs": [],
   "source": [
    "import requests\n",
    "\n",
    "S = requests.Session()\n",
    "URL = \"https://en.wikipedia.org/w/api.php\"\n",
    "title = titles[0]\n",
    "\n",
    "params = {\n",
    "    \"action\": \"query\",\n",
    "    \"format\": \"json\",\n",
    "    \"titles\": title,\n",
    "}\n",
    "\n",
    "response = S.get(url=URL, params=params).json()\n",
    "response"
   ]
  },
  {
   "cell_type": "markdown",
   "metadata": {},
   "source": [
    "Os valores da _response_ podem ser facilmente acessados como um dicionário em python, por meio da sintaxe dict[chave]."
   ]
  },
  {
   "cell_type": "code",
   "execution_count": null,
   "metadata": {},
   "outputs": [],
   "source": [
    "query = response[\"query\"]\n",
    "print(query)"
   ]
  },
  {
   "cell_type": "code",
   "execution_count": null,
   "metadata": {},
   "outputs": [],
   "source": [
    "pages = query[\"pages\"] # or response[\"query\"][\"pages\"]\n",
    "print(pages)"
   ]
  },
  {
   "cell_type": "code",
   "execution_count": null,
   "metadata": {},
   "outputs": [],
   "source": [
    "pages_list = list(pages.values()) # or list(response[\"query\"][\"pages\"].values()) \n",
    "print(pages_list)\n",
    "\n",
    "first_page_title = pages_list[0][\"title\"] # or list(response[\"query\"][\"pages\"].values())[0][\"title\"]\n",
    "print(first_page_title)"
   ]
  },
  {
   "cell_type": "code",
   "execution_count": null,
   "metadata": {},
   "outputs": [],
   "source": []
  },
  {
   "cell_type": "markdown",
   "metadata": {},
   "source": [
    "É possível coletar as revisões, dentre outras informações. A [documentação](https://en.wikipedia.org/w/api.php) pode ser lida em  \n",
    "\n",
    "[outra API](https://en.wikipedia.org/api/rest_v1/#/) que ainda não foi explorada."
   ]
  },
  {
   "cell_type": "code",
   "execution_count": 10,
   "metadata": {
    "scrolled": false
   },
   "outputs": [
    {
     "name": "stdout",
     "output_type": "stream",
     "text": [
      "['2017-10-01T00:00:00Z', '2017-09-01T00:00:00Z', '2017-08-01T00:00:00Z']\n",
      "{'error': {'code': 'badtimestamp_rvend', 'info': 'Invalid value \"2017-8-01T00:00:00Z\" for timestamp parameter \"rvend\".', '*': 'See https://en.wikipedia.org/w/api.php for API usage. Subscribe to the mediawiki-api-announce mailing list at &lt;https://lists.wikimedia.org/mailman/listinfo/mediawiki-api-announce&gt; for notice of API deprecations and breaking changes.'}, 'servedby': 'mw1234'}\n"
     ]
    },
    {
     "ename": "KeyError",
     "evalue": "'query'",
     "output_type": "error",
     "traceback": [
      "\u001b[0;31m---------------------------------------------------------------------------\u001b[0m",
      "\u001b[0;31mKeyError\u001b[0m                                  Traceback (most recent call last)",
      "\u001b[0;32m<ipython-input-10-ee9a5eeb5c07>\u001b[0m in \u001b[0;36m<module>\u001b[0;34m\u001b[0m\n\u001b[1;32m     11\u001b[0m \u001b[0mprint\u001b[0m\u001b[0;34m(\u001b[0m\u001b[0mresponse\u001b[0m\u001b[0;34m)\u001b[0m\u001b[0;34m\u001b[0m\u001b[0;34m\u001b[0m\u001b[0m\n\u001b[1;32m     12\u001b[0m \u001b[0;34m\u001b[0m\u001b[0m\n\u001b[0;32m---> 13\u001b[0;31m \u001b[0mrevisions_info\u001b[0m \u001b[0;34m=\u001b[0m \u001b[0mparse_revisions_info_monthly\u001b[0m\u001b[0;34m(\u001b[0m\u001b[0mresponse\u001b[0m\u001b[0;34m,\u001b[0m \u001b[0mdate_start\u001b[0m\u001b[0;34m,\u001b[0m \u001b[0mdate_end\u001b[0m\u001b[0;34m)\u001b[0m\u001b[0;34m\u001b[0m\u001b[0;34m\u001b[0m\u001b[0m\n\u001b[0m",
      "\u001b[0;32m~/Documents/tcc-web-crawler/poc_wikimedia_revision/wiki_revision_crawler.py\u001b[0m in \u001b[0;36mparse_revisions_info_monthly\u001b[0;34m(revisions_info_response, date_start, date_end)\u001b[0m\n\u001b[1;32m     72\u001b[0m         \u001b[0mnext_date\u001b[0m\u001b[0;34m:\u001b[0m \u001b[0mfirst\u001b[0m \u001b[0mdate\u001b[0m \u001b[0mwhich\u001b[0m \u001b[0mwas\u001b[0m \u001b[0;32mnot\u001b[0m \u001b[0mcontemplated\u001b[0m\u001b[0;34m\u001b[0m\u001b[0;34m\u001b[0m\u001b[0m\n\u001b[1;32m     73\u001b[0m     \"\"\"\n\u001b[0;32m---> 74\u001b[0;31m     \u001b[0mpage\u001b[0m \u001b[0;34m=\u001b[0m \u001b[0mlist\u001b[0m\u001b[0;34m(\u001b[0m\u001b[0mrevisions_info_response\u001b[0m\u001b[0;34m[\u001b[0m\u001b[0;34m\"query\"\u001b[0m\u001b[0;34m]\u001b[0m\u001b[0;34m[\u001b[0m\u001b[0;34m\"pages\"\u001b[0m\u001b[0;34m]\u001b[0m\u001b[0;34m.\u001b[0m\u001b[0mvalues\u001b[0m\u001b[0;34m(\u001b[0m\u001b[0;34m)\u001b[0m\u001b[0;34m)\u001b[0m\u001b[0;34m[\u001b[0m\u001b[0;36m0\u001b[0m\u001b[0;34m]\u001b[0m\u001b[0;34m\u001b[0m\u001b[0;34m\u001b[0m\u001b[0m\n\u001b[0m\u001b[1;32m     75\u001b[0m     \u001b[0mrevisions\u001b[0m \u001b[0;34m=\u001b[0m \u001b[0mpage\u001b[0m\u001b[0;34m[\u001b[0m\u001b[0;34m\"revisions\"\u001b[0m\u001b[0;34m]\u001b[0m\u001b[0;34m\u001b[0m\u001b[0;34m\u001b[0m\u001b[0m\n\u001b[1;32m     76\u001b[0m     \u001b[0mdates\u001b[0m \u001b[0;34m=\u001b[0m \u001b[0mdate_range_monthly\u001b[0m\u001b[0;34m(\u001b[0m\u001b[0mdate_end\u001b[0m\u001b[0;34m,\u001b[0m \u001b[0mdate_start\u001b[0m\u001b[0;34m)\u001b[0m\u001b[0;34m\u001b[0m\u001b[0;34m\u001b[0m\u001b[0m\n",
      "\u001b[0;31mKeyError\u001b[0m: 'query'"
     ]
    }
   ],
   "source": [
    "from wiki_revision_crawler import get_revisions_info, date_range_monthly, parse_revisions_info_monthly\n",
    "\n",
    "date_start = \"2017-10-01T00:00:00Z\"\n",
    "date_end = \"2017-8-01T00:00:00Z\"\n",
    " \n",
    "print(date_range_monthly(date_end, date_start))\n",
    "\n",
    "date_start = \"2006-01-03T00:00:00Z\"\n",
    "\n",
    "response = get_revisions_info(\"Dypsis onilahensis\", date_start, date_end)\n",
    "print(response)\n",
    "\n",
    "revisions_info = parse_revisions_info_monthly(response, date_start, date_end)\n"
   ]
  },
  {
   "cell_type": "code",
   "execution_count": 4,
   "metadata": {},
   "outputs": [
    {
     "data": {
      "text/plain": [
       "([{'access': '2019-07-01T00:00:00Z',\n",
       "   'revision': {'revid': 833068079,\n",
       "    'parentid': 825632911,\n",
       "    'user': 'Tom.Reding',\n",
       "    'timestamp': '2018-03-29T14:04:16Z',\n",
       "    'comment': '+[[:Category:Taxonomy articles created by Polbot\\u200e\\u200e]]; cleanup; [[WP:GenFixes]] on, using [[Project:AWB|AWB]]'}},\n",
       "  {'access': '2019-06-01T00:00:00Z',\n",
       "   'revision': {'revid': 833068079,\n",
       "    'parentid': 825632911,\n",
       "    'user': 'Tom.Reding',\n",
       "    'timestamp': '2018-03-29T14:04:16Z',\n",
       "    'comment': '+[[:Category:Taxonomy articles created by Polbot\\u200e\\u200e]]; cleanup; [[WP:GenFixes]] on, using [[Project:AWB|AWB]]'}},\n",
       "  {'access': '2019-05-01T00:00:00Z',\n",
       "   'revision': {'revid': 833068079,\n",
       "    'parentid': 825632911,\n",
       "    'user': 'Tom.Reding',\n",
       "    'timestamp': '2018-03-29T14:04:16Z',\n",
       "    'comment': '+[[:Category:Taxonomy articles created by Polbot\\u200e\\u200e]]; cleanup; [[WP:GenFixes]] on, using [[Project:AWB|AWB]]'}},\n",
       "  {'access': '2019-04-01T00:00:00Z',\n",
       "   'revision': {'revid': 833068079,\n",
       "    'parentid': 825632911,\n",
       "    'user': 'Tom.Reding',\n",
       "    'timestamp': '2018-03-29T14:04:16Z',\n",
       "    'comment': '+[[:Category:Taxonomy articles created by Polbot\\u200e\\u200e]]; cleanup; [[WP:GenFixes]] on, using [[Project:AWB|AWB]]'}},\n",
       "  {'access': '2019-03-01T00:00:00Z',\n",
       "   'revision': {'revid': 833068079,\n",
       "    'parentid': 825632911,\n",
       "    'user': 'Tom.Reding',\n",
       "    'timestamp': '2018-03-29T14:04:16Z',\n",
       "    'comment': '+[[:Category:Taxonomy articles created by Polbot\\u200e\\u200e]]; cleanup; [[WP:GenFixes]] on, using [[Project:AWB|AWB]]'}},\n",
       "  {'access': '2019-02-01T00:00:00Z',\n",
       "   'revision': {'revid': 833068079,\n",
       "    'parentid': 825632911,\n",
       "    'user': 'Tom.Reding',\n",
       "    'timestamp': '2018-03-29T14:04:16Z',\n",
       "    'comment': '+[[:Category:Taxonomy articles created by Polbot\\u200e\\u200e]]; cleanup; [[WP:GenFixes]] on, using [[Project:AWB|AWB]]'}},\n",
       "  {'access': '2019-01-01T00:00:00Z',\n",
       "   'revision': {'revid': 833068079,\n",
       "    'parentid': 825632911,\n",
       "    'user': 'Tom.Reding',\n",
       "    'timestamp': '2018-03-29T14:04:16Z',\n",
       "    'comment': '+[[:Category:Taxonomy articles created by Polbot\\u200e\\u200e]]; cleanup; [[WP:GenFixes]] on, using [[Project:AWB|AWB]]'}},\n",
       "  {'access': '2018-12-01T00:00:00Z',\n",
       "   'revision': {'revid': 833068079,\n",
       "    'parentid': 825632911,\n",
       "    'user': 'Tom.Reding',\n",
       "    'timestamp': '2018-03-29T14:04:16Z',\n",
       "    'comment': '+[[:Category:Taxonomy articles created by Polbot\\u200e\\u200e]]; cleanup; [[WP:GenFixes]] on, using [[Project:AWB|AWB]]'}},\n",
       "  {'access': '2018-11-01T00:00:00Z',\n",
       "   'revision': {'revid': 833068079,\n",
       "    'parentid': 825632911,\n",
       "    'user': 'Tom.Reding',\n",
       "    'timestamp': '2018-03-29T14:04:16Z',\n",
       "    'comment': '+[[:Category:Taxonomy articles created by Polbot\\u200e\\u200e]]; cleanup; [[WP:GenFixes]] on, using [[Project:AWB|AWB]]'}},\n",
       "  {'access': '2018-10-01T00:00:00Z',\n",
       "   'revision': {'revid': 833068079,\n",
       "    'parentid': 825632911,\n",
       "    'user': 'Tom.Reding',\n",
       "    'timestamp': '2018-03-29T14:04:16Z',\n",
       "    'comment': '+[[:Category:Taxonomy articles created by Polbot\\u200e\\u200e]]; cleanup; [[WP:GenFixes]] on, using [[Project:AWB|AWB]]'}},\n",
       "  {'access': '2018-09-01T00:00:00Z',\n",
       "   'revision': {'revid': 833068079,\n",
       "    'parentid': 825632911,\n",
       "    'user': 'Tom.Reding',\n",
       "    'timestamp': '2018-03-29T14:04:16Z',\n",
       "    'comment': '+[[:Category:Taxonomy articles created by Polbot\\u200e\\u200e]]; cleanup; [[WP:GenFixes]] on, using [[Project:AWB|AWB]]'}},\n",
       "  {'access': '2018-08-01T00:00:00Z',\n",
       "   'revision': {'revid': 833068079,\n",
       "    'parentid': 825632911,\n",
       "    'user': 'Tom.Reding',\n",
       "    'timestamp': '2018-03-29T14:04:16Z',\n",
       "    'comment': '+[[:Category:Taxonomy articles created by Polbot\\u200e\\u200e]]; cleanup; [[WP:GenFixes]] on, using [[Project:AWB|AWB]]'}},\n",
       "  {'access': '2018-07-01T00:00:00Z',\n",
       "   'revision': {'revid': 833068079,\n",
       "    'parentid': 825632911,\n",
       "    'user': 'Tom.Reding',\n",
       "    'timestamp': '2018-03-29T14:04:16Z',\n",
       "    'comment': '+[[:Category:Taxonomy articles created by Polbot\\u200e\\u200e]]; cleanup; [[WP:GenFixes]] on, using [[Project:AWB|AWB]]'}},\n",
       "  {'access': '2018-06-01T00:00:00Z',\n",
       "   'revision': {'revid': 833068079,\n",
       "    'parentid': 825632911,\n",
       "    'user': 'Tom.Reding',\n",
       "    'timestamp': '2018-03-29T14:04:16Z',\n",
       "    'comment': '+[[:Category:Taxonomy articles created by Polbot\\u200e\\u200e]]; cleanup; [[WP:GenFixes]] on, using [[Project:AWB|AWB]]'}},\n",
       "  {'access': '2018-05-01T00:00:00Z',\n",
       "   'revision': {'revid': 833068079,\n",
       "    'parentid': 825632911,\n",
       "    'user': 'Tom.Reding',\n",
       "    'timestamp': '2018-03-29T14:04:16Z',\n",
       "    'comment': '+[[:Category:Taxonomy articles created by Polbot\\u200e\\u200e]]; cleanup; [[WP:GenFixes]] on, using [[Project:AWB|AWB]]'}},\n",
       "  {'access': '2018-04-01T00:00:00Z',\n",
       "   'revision': {'revid': 833068079,\n",
       "    'parentid': 825632911,\n",
       "    'user': 'Tom.Reding',\n",
       "    'timestamp': '2018-03-29T14:04:16Z',\n",
       "    'comment': '+[[:Category:Taxonomy articles created by Polbot\\u200e\\u200e]]; cleanup; [[WP:GenFixes]] on, using [[Project:AWB|AWB]]'}},\n",
       "  {'access': '2018-03-01T00:00:00Z',\n",
       "   'revision': {'revid': 825632911,\n",
       "    'parentid': 809496473,\n",
       "    'user': 'Tom.Reding',\n",
       "    'timestamp': '2018-02-14T14:07:58Z',\n",
       "    'comment': '[[Template talk:Taxonbar#from1|Add from]]=[[d:Special:EntityPage/Q1935693|Q1935693]] to {{[[Template:Taxonbar|Taxonbar]]}}; [[WP:GenFixes]] on, using [[Project:AWB|AWB]]'}},\n",
       "  {'access': '2018-02-01T00:00:00Z',\n",
       "   'revision': {'revid': 809496473,\n",
       "    'parentid': 809457507,\n",
       "    'user': 'Tom.Reding',\n",
       "    'timestamp': '2017-11-09T14:12:51Z',\n",
       "    'comment': '/* top */Ref cleanup; [[WP:GenFixes]] on; using [[Project:AWB|AWB]]'}},\n",
       "  {'access': '2018-01-01T00:00:00Z',\n",
       "   'revision': {'revid': 809496473,\n",
       "    'parentid': 809457507,\n",
       "    'user': 'Tom.Reding',\n",
       "    'timestamp': '2017-11-09T14:12:51Z',\n",
       "    'comment': '/* top */Ref cleanup; [[WP:GenFixes]] on; using [[Project:AWB|AWB]]'}},\n",
       "  {'access': '2017-12-01T00:00:00Z',\n",
       "   'revision': {'revid': 809496473,\n",
       "    'parentid': 809457507,\n",
       "    'user': 'Tom.Reding',\n",
       "    'timestamp': '2017-11-09T14:12:51Z',\n",
       "    'comment': '/* top */Ref cleanup; [[WP:GenFixes]] on; using [[Project:AWB|AWB]]'}},\n",
       "  {'access': '2017-11-01T00:00:00Z',\n",
       "   'revision': {'revid': 807999009,\n",
       "    'parentid': 806557594,\n",
       "    'user': 'John of Reading',\n",
       "    'timestamp': '2017-10-31T08:06:18Z',\n",
       "    'comment': \"/* Habitat */Typo fixing, replaced: it's range → its range using [[Project:AWB|AWB]]\"}},\n",
       "  {'access': '2017-10-01T00:00:00Z',\n",
       "   'revision': {'revid': 800721465,\n",
       "    'parentid': 767734046,\n",
       "    'user': 'InternetArchiveBot',\n",
       "    'timestamp': '2017-09-15T08:00:24Z',\n",
       "    'comment': 'Rescuing 1 sources and tagging 0 as dead. #IABot (v1.5.2)'}}],\n",
       " False,\n",
       " '2017-09-01T00:00:00Z')"
      ]
     },
     "execution_count": 4,
     "metadata": {},
     "output_type": "execute_result"
    }
   ],
   "source": [
    "revisions_info"
   ]
  },
  {
   "cell_type": "code",
   "execution_count": null,
   "metadata": {},
   "outputs": [],
   "source": []
  },
  {
   "cell_type": "code",
   "execution_count": null,
   "metadata": {},
   "outputs": [],
   "source": [
    "import json\n",
    "with open(\"response.json\", 'w') as fp:\n",
    "    json.dump(response, fp)"
   ]
  },
  {
   "cell_type": "code",
   "execution_count": null,
   "metadata": {},
   "outputs": [],
   "source": [
    "import datetime\n",
    "import dateutil.parser\n",
    "\n",
    "def parse_date(date):\n",
    "    \"\"\"Parse date from ISO 8601 format to datetime\n",
    " \n",
    "    Parameters:\n",
    "        date (str): date in the format ISO 8601: 2001-01-15T14:56:00Z\n",
    "        \n",
    "    Returns:\n",
    "        date (datetime): date parsed\n",
    "\n",
    "    \"\"\"\n",
    "    return dateutil.parser.parse(date)\n",
    "\n",
    "def format_date(date):\n",
    "    \"\"\"Format date ISO 8601 (i.e. 2001-01-15T14:56:00Z)\n",
    " \n",
    "    Parameters:\n",
    "        date (datetime): date\n",
    "        \n",
    "    Returns:\n",
    "        date (str): ISO 8601 formatted date\n",
    "    \n",
    "    \"\"\"\n",
    "    s = \"%Y-%m-%dT%H:%M:%SZ\"\n",
    "    return date.strftime(s)\n",
    "\n",
    "date_idx=0\n",
    "dates = pd.date_range(\"2017-01-03T01:32:59Z\",\"2017-04-03T01:32:59Z\", freq='MS').strftime(\"%Y-%m-%dT%H:%M:%SZ\").tolist()\n",
    "\n",
    "while date_idx < len(dates):\n",
    "    print(dates[date_idx])\n",
    "    date_idx += 1"
   ]
  },
  {
   "cell_type": "code",
   "execution_count": null,
   "metadata": {},
   "outputs": [],
   "source": [
    "from pandas.io.json import json_normalize\n",
    "\n",
    "#revisions = data[\"query\"][\"pages\"][page_id][\"revisions\"]\n",
    "#revisions = list(data[\"query\"][\"pages\"].values())[0][\"revisions\"]\n",
    "\n",
    "json_normalize(revisions_info)"
   ]
  },
  {
   "cell_type": "code",
   "execution_count": 11,
   "metadata": {
    "scrolled": false
   },
   "outputs": [
    {
     "ename": "KeyError",
     "evalue": "'slots'",
     "output_type": "error",
     "traceback": [
      "\u001b[0;31m---------------------------------------------------------------------------\u001b[0m",
      "\u001b[0;31mKeyError\u001b[0m                                  Traceback (most recent call last)",
      "\u001b[0;32m<ipython-input-11-80995f0d42c5>\u001b[0m in \u001b[0;36m<module>\u001b[0;34m\u001b[0m\n\u001b[1;32m     35\u001b[0m \u001b[0mpage\u001b[0m \u001b[0;34m=\u001b[0m \u001b[0mlist\u001b[0m\u001b[0;34m(\u001b[0m\u001b[0mresponse\u001b[0m\u001b[0;34m[\u001b[0m\u001b[0;34m\"query\"\u001b[0m\u001b[0;34m]\u001b[0m\u001b[0;34m[\u001b[0m\u001b[0;34m\"pages\"\u001b[0m\u001b[0;34m]\u001b[0m\u001b[0;34m)\u001b[0m\u001b[0;34m[\u001b[0m\u001b[0;36m0\u001b[0m\u001b[0;34m]\u001b[0m\u001b[0;34m\u001b[0m\u001b[0;34m\u001b[0m\u001b[0m\n\u001b[1;32m     36\u001b[0m \u001b[0mrevision\u001b[0m \u001b[0;34m=\u001b[0m \u001b[0mlist\u001b[0m\u001b[0;34m(\u001b[0m\u001b[0mpage\u001b[0m\u001b[0;34m[\u001b[0m\u001b[0;34m\"revisions\"\u001b[0m\u001b[0;34m]\u001b[0m\u001b[0;34m)\u001b[0m\u001b[0;34m[\u001b[0m\u001b[0;36m0\u001b[0m\u001b[0;34m]\u001b[0m\u001b[0;34m\u001b[0m\u001b[0;34m\u001b[0m\u001b[0m\n\u001b[0;32m---> 37\u001b[0;31m \u001b[0mcontent\u001b[0m \u001b[0;34m=\u001b[0m \u001b[0mrevision\u001b[0m\u001b[0;34m[\u001b[0m\u001b[0;34m\"slots\"\u001b[0m\u001b[0;34m]\u001b[0m\u001b[0;34m[\u001b[0m\u001b[0;34m\"main\"\u001b[0m\u001b[0;34m]\u001b[0m\u001b[0;34m[\u001b[0m\u001b[0;34m\"content\"\u001b[0m\u001b[0;34m]\u001b[0m\u001b[0;34m\u001b[0m\u001b[0;34m\u001b[0m\u001b[0m\n\u001b[0m\u001b[1;32m     38\u001b[0m \u001b[0mcontent\u001b[0m\u001b[0;34m\u001b[0m\u001b[0;34m\u001b[0m\u001b[0m\n",
      "\u001b[0;31mKeyError\u001b[0m: 'slots'"
     ]
    }
   ],
   "source": [
    "import requests\n",
    "\n",
    "S = requests.Session()\n",
    "URL = \"https://en.wikipedia.org/w/api.php\"\n",
    "\n",
    "def get_revision(title, access_date):\n",
    "    # title = \"Procellariidae\"\n",
    "    # date = \"2017-04-03T01:32:59.000Z\"\n",
    "    params = {\n",
    "        \"action\": \"query\",\n",
    "        \"prop\": \"revisions\",\n",
    "        \"titles\": title,\n",
    "        \"rvprop\": \"timestamp|user|comment|content|ids\",\n",
    "        \"rvslots\": \"main\",\n",
    "        \"formatversion\": \"2\",\n",
    "        \"format\": \"json\",\n",
    "        \"rvlimit\": 1,\n",
    "        \"rvstart\": access_date,\n",
    "        \"rvdir\": \"older\",\n",
    "    }\n",
    "\n",
    "    response = S.get(url=URL, params=params)\n",
    "    \n",
    "    return response.json()\n",
    "\n",
    "def parse_revision_response(response, date):\n",
    "    page = list(response[\"query\"][\"pages\"])[0]\n",
    "    revision = list(page[\"revisions\"])[0]\n",
    "    return (page[\"pageid\"], page[\"title\"], revision[\"user\"], revision[\"timestamp\"], revision[\"comment\"], revision[\"slots\"][\"main\"][\"content\"])\n",
    "\n",
    "date = \"2009-01-03T00:00:00.000Z\"\n",
    "response = get_revision(\"Procellariidae\", date)\n",
    "#parse_revision_response(response, date)\n",
    "#category = parse_revision_category_content(response)\n",
    "page = list(response[\"query\"][\"pages\"])[0]\n",
    "revision = list(page[\"revisions\"])[0]\n",
    "content = revision[\"slots\"][\"main\"][\"content\"]\n",
    "content"
   ]
  },
  {
   "cell_type": "code",
   "execution_count": 47,
   "metadata": {},
   "outputs": [
    {
     "data": {
      "text/plain": [
       "{'batchcomplete': True,\n",
       " 'query': {'pages': [{'pageid': 30404350,\n",
       "    'ns': 0,\n",
       "    'title': 'Ubuntu (operating system)'}]}}"
      ]
     },
     "execution_count": 47,
     "metadata": {},
     "output_type": "execute_result"
    }
   ],
   "source": [
    "def get_revision_info(title, access_date):\n",
    "    # title = \"Procellariidae\"\n",
    "    # date = \"2017-04-03T01:32:59.000Z\"\n",
    "    params = {\n",
    "        \"action\": \"query\",\n",
    "        \"prop\": \"revisions\",\n",
    "        \"titles\": title,\n",
    "        \"rvprop\": \"timestamp|user|comment|ids\",\n",
    "        \"rvslots\": \"main\",\n",
    "        \"formatversion\": \"2\",\n",
    "        \"format\": \"json\",\n",
    "        \"rvlimit\": 500,\n",
    "        \"rvstart\": access_date,\n",
    "        \"rvdir\": \"older\",\n",
    "    }\n",
    "\n",
    "    response = S.get(url=URL, params=params)\n",
    "    \n",
    "    return response.json()\n",
    "title = \"Ubuntu (operating system)\"\n",
    "date_end = \"2009-09-03T00:00:00Z\"\n",
    "get_revision_info(title, date_end)"
   ]
  },
  {
   "cell_type": "code",
   "execution_count": 43,
   "metadata": {},
   "outputs": [
    {
     "name": "stdout",
     "output_type": "stream",
     "text": [
      "{'batchcomplete': '', 'query': {'pages': {'4096922': {'pageid': 4096922, 'ns': 0, 'title': 'Variegated fairywren', 'redirects': [{'pageid': 4098228, 'ns': 0, 'title': 'Malurus lamberti'}, {'pageid': 7659390, 'ns': 0, 'title': 'Variegated Fairy-Wren'}, {'pageid': 24164108, 'ns': 0, 'title': 'Variegated Fairy-wren'}, {'pageid': 42782291, 'ns': 0, 'title': 'Variegated Fairywren'}, {'pageid': 43905868, 'ns': 0, 'title': 'Variegated fairy-wren'}, {'pageid': 55816394, 'ns': 0, 'title': 'Variegated fairy wren'}, {'pageid': 55816399, 'ns': 0, 'title': 'Variegated Fairy Wren'}, {'pageid': 55816537, 'ns': 0, 'title': 'Malurus Lamberti'}, {'pageid': 55816604, 'ns': 0, 'title': 'Variegated wren'}, {'pageid': 55816605, 'ns': 0, 'title': 'Variegated Wren'}]}}}}\n"
     ]
    }
   ],
   "source": [
    "def get_page_redirect(title):\n",
    "    PARAMS = {\n",
    "        'action': \"query\",\n",
    "        'format': \"json\",\n",
    "        'titles': title,\n",
    "        'prop': \"redirects\"\n",
    "    }\n",
    "\n",
    "    R = S.get(url=URL, params=PARAMS)\n",
    "    DATA = R.json()\n",
    "    return DATA\n",
    "\n",
    "# title = 'List of Danish football champions'\n",
    "# print(get_page_redirect(title))\n",
    "\n",
    "title = 'Variegated fairywren'\n",
    "print(get_page_redirect(title))\n",
    "\n",
    "# title = 'List of Danish football champions'\n",
    "# print(get_page_redirect(title))"
   ]
  },
  {
   "cell_type": "code",
   "execution_count": null,
   "metadata": {},
   "outputs": [],
   "source": []
  },
  {
   "cell_type": "code",
   "execution_count": null,
   "metadata": {},
   "outputs": [],
   "source": [
    "def parse_revision_category_content(text):\n",
    "    classes = []\n",
    "    if text is not None:\n",
    "        lines = text.replace(\"{{\",\"}}\").replace(\"\\n\",\"\").split(\"}}\")\n",
    "        for line in lines:\n",
    "            if \"class\" in line:\n",
    "                print(line)\n",
    "                atributes = line.split(\"|\")\n",
    "                wiki_project = \"\"\n",
    "                wiki_class = \"-\"\n",
    "                for idx, atribute in enumerate(atributes):\n",
    "                    atribute_values = atribute.split(\"=\")\n",
    "                    if idx == 0:\n",
    "                        wiki_project = atribute_values[0]\n",
    "                    if atribute_values[0] == \"class\" and len(atribute_values) > 1 :\n",
    "                        wiki_class = atribute_values[1]\n",
    "                classes.append((wiki_project, wiki_class))\n",
    "    return classes\n",
    "parse_revision_category_content(content)"
   ]
  }
 ],
 "metadata": {
  "kernelspec": {
   "display_name": "Python 3",
   "language": "python",
   "name": "python3"
  },
  "language_info": {
   "codemirror_mode": {
    "name": "ipython",
    "version": 3
   },
   "file_extension": ".py",
   "mimetype": "text/x-python",
   "name": "python",
   "nbconvert_exporter": "python",
   "pygments_lexer": "ipython3",
   "version": "3.7.3"
  }
 },
 "nbformat": 4,
 "nbformat_minor": 2
}
