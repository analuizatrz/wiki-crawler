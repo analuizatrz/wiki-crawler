{
 "cells": [
  {
   "cell_type": "markdown",
   "metadata": {},
   "source": [
    "# Resultados da Coleta \n",
    "\n",
    "A coleta realizada de 2009 à 2007 resultou em "
   ]
  },
  {
   "cell_type": "code",
   "execution_count": 16,
   "metadata": {},
   "outputs": [
    {
     "name": "stdout",
     "output_type": "stream",
     "text": [
      "Erros na primeira coleta : 0.4207650273224044\n",
      "Erros na segunda coleta : 0.3282828282828283\n",
      "Erros totais : 0.13812993321190042\n",
      "Coletados completamente ou parcialmente : 0.8618700667880995\n"
     ]
    }
   ],
   "source": [
    "total = 3294\n",
    "titles_not_collected_completed = 1386 # or errors from collecting completly\n",
    "\n",
    "titles_not_colleted_even_parcially = 455 # or error from collecting partilly\n",
    "\n",
    "erros_first_collection = titles_not_collected_completed/total\n",
    "print(f\"Erros na primeira coleta : {erros_first_collection}\")\n",
    "\n",
    "erros_second_collection = titles_not_colleted_even_parcially/titles_not_collected_completed\n",
    "print(f\"Erros na segunda coleta : {erros_second_collection}\") \n",
    "\n",
    "total_errors = (titles_not_colleted_even_parcially)/total\n",
    "print(f\"Erros totais : {total_errors}\") \n",
    "collect_total = 1 - total_errors\n",
    "\n",
    "print(f\"Coletados completamente ou parcialmente : {collected_total}\") "
   ]
  },
  {
   "cell_type": "markdown",
   "metadata": {},
   "source": [
    "\n",
    "https://en.wikipedia.org/api/rest_v1/#/Page%20content\n",
    "\n",
    "https://wikimedia.org/api/rest_v1/#/\n",
    "\n",
    "https://en.wikipedia.org/w/api.php\n",
    "\n",
    "para brincar com a API por meio de interface gráfica\n",
    "https://en.wikipedia.org/wiki/Special:ApiSandbox\n"
   ]
  },
  {
   "cell_type": "markdown",
   "metadata": {},
   "source": [
    "A coleta realizada de 2019 à 2014 resultou em sem tempo sleep"
   ]
  },
  {
   "cell_type": "code",
   "execution_count": 5,
   "metadata": {},
   "outputs": [
    {
     "data": {
      "text/plain": [
       "0.5631451123254402"
      ]
     },
     "execution_count": 5,
     "metadata": {},
     "output_type": "execute_result"
    }
   ],
   "source": [
    "titles_not_collect_2 = 1855\n",
    "percentage = titles_not_collect_2/total\n",
    "percentage"
   ]
  },
  {
   "cell_type": "markdown",
   "metadata": {},
   "source": [
    "Coleta realizada de 2019 à 2017"
   ]
  }
 ],
 "metadata": {
  "kernelspec": {
   "display_name": "Python 3",
   "language": "python",
   "name": "python3"
  },
  "language_info": {
   "codemirror_mode": {
    "name": "ipython",
    "version": 3
   },
   "file_extension": ".py",
   "mimetype": "text/x-python",
   "name": "python",
   "nbconvert_exporter": "python",
   "pygments_lexer": "ipython3",
   "version": "3.7.3"
  }
 },
 "nbformat": 4,
 "nbformat_minor": 2
}
