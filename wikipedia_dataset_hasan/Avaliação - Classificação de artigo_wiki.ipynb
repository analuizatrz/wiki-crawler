{
 "cells": [
  {
   "cell_type": "markdown",
   "metadata": {},
   "source": [
    "## Avaliação - Classificação Automática de Artigos Wikipedia"
   ]
  },
  {
   "cell_type": "markdown",
   "metadata": {},
   "source": [
    "Nesta prática, iremos usar dados de 3.294 artigos da Wikipédia rotulados manualmente quanto a sua qualidade. \n",
    "\n",
    "Esses artigos passaram por uma avaliação pela comunidade de editores da Wikipedia. Tais editores classificaram esses artigos quanto a qualidade da seguinte forma: \n",
    "\n",
    "- **Artigo Destaque (FA)**: Os artigos atribuídos a esta classe são, de acordo com os avaliadores, os melhores artigos da Wikipédia.\n",
    "- **Classe A (AC)**: os artigos da Classe A são considerados completos, mas com alguns problemas pendentes que precisam ser resolvidos para serem promovidos a Artigos em destaque.\n",
    "- **Artigo Bons (GA)**: Bons Artigos são aqueles sem problemas de lacunas ou conteúdo excessivo. Essas são boas fontes de informação, embora outras enciclopédias possam fornecer um conteúdo melhor.\n",
    "- **Classe B (BC)**: os artigos atribuídos a essa classe são considerados úteis para a maioria dos usuários, mas carecem de informações mais precisas.\n",
    "- **Classe Inicial (ST)**: os artigos da Classe Inicial ainda estão incompletos, embora contenham referências e ponteiros para informações mais completas.\n",
    "- **Artigos Rascunhos (SB)**: os artigos de toco são artigos de rascunho, com poucos parágrafos. Eles também têm poucas ou nenhumas citações.\n",
    "\n",
    "Assim, [Dalip et. al. (2009)](https://dl.acm.org/citation.cfm?id=1555449) fizeram o preprocessamento desses artigos para serem extraídos indicadores de qualidades tais como: idade do artigo, tamanho, número de citações. Com tais indicadores e a classe de qualidade, foi possível realizar a predição automática de qualidade de artigos da Wikipédia.\n",
    "\n",
    "Nesta prática, iremos fazer a previsão da qualidade usando os indicadores proposto por [Dalip et. al. (2009)](https://dl.acm.org/citation.cfm?id=1555449) e uma árvore de decisão.\n",
    "\n",
    "Inicialmente, uso um DataFrame pandas e leia o arquivo wikipedia.csv e exiba os dados deste dataset. Coloque como o rótulo da linha o id do artigo (ou seja, no dataset, a coluna id será a index_col do DataFrame)."
   ]
  },
  {
   "cell_type": "markdown",
   "metadata": {},
   "source": [
    "1. **Implementação do código de avaliação:** Primeiramente você deverá implementar as métricas de avaliação (da classe Resultado). O arquivo `resultado_tests.py` possui os testes unitários.  Veja abaixo como cada métrica, que é uma propriedade da classe (i.e. atributo calculado):\n",
    "    - **mat_confusão**: Retorna a matriz de confusão correpondente. Será uma matriz em que o número de linhas e coluna é o valor numérico da maior classe na amostra.\n",
    "    - **acurácia**: A partir da matriz de confusão, calcule a acurácia \n",
    "    - **precisao**: A partir da matriz de confusão, calcule a precisão por classe. Caso, a quantidade de instancias preditas para uma determinda classe for zero, então `precisao[c] = 0`. Nesses casos, você deverá [lançar um warning](https://docs.python.org/3.7/library/warnings.html) da classe `UndefinedMetricWarning` com uma mensagem que não havia instancias previstas para essa classe.\n",
    "    - **revocacao**: De forma similar à `precisao`, calcula a revocação por meio da matriz de confusão. Caso o número de elementos dessa classe seja igual a zero, então a revocação para esta classe também é zero e também deverá ser retornado um warning `UndefinedMetricWarning` com essa informação\n",
    "    - **f1_por_classe**: Retorna, para cada classe, o seu valor F1. Caso a soma da precisão e revocação dessa classe seja zero, deverá ser retornado zero.\n",
    "    - **macro_f1**: Calcula a média do f1 por classe. O método `np.average` pode ajudar.\n",
    "    \n",
    "A matriz de confusão já está implementada, as demais possuem algo para você complementar. Se necessário, <a href=\"https://medium.com/thalus-ai/performance-metrics-for-classification-problems-in-machine-learning-part-i-b085d432082b\">Explicações sobre precisão e revocação</a> Veja também nos slides\n",
    "\n"
   ]
  },
  {
   "cell_type": "markdown",
   "metadata": {},
   "source": [
    "2. **Método eval da classe fold**: O método `eval` passará como parametro um método de aprendizado de máquina (por ex, uma instancia de [Árvore de Decisão](https://scikit-learn.org/stable/modules/generated/sklearn.tree.DecisionTreeClassifier.html#sklearn.tree.DecisionTreeClassifier)). Assim, usando esse parametro, você deverá criar o modelo de treino (usando as features de `df_treino` e a sua classe) e classificar os elementos de `df_data_to_predict`."
   ]
  },
  {
   "cell_type": "markdown",
   "metadata": {},
   "source": [
    "3. **Obtenção e divisão do Dataset:** Nesta prática, iremos trabalhar com 80% de treino e 20% de teste. Leia o dataset [`segment.csv`](segment.csv) e divida-o apropriadamente. Não esqueça que a amostra deve ser aleatória. Coloque como `random_state=1`"
   ]
  },
  {
   "cell_type": "code",
   "execution_count": 1,
   "metadata": {},
   "outputs": [],
   "source": [
    "import pandas as pd\n",
    "\n",
    "df = pd.read_csv(\"wikipedia.csv\", ).drop(columns=[\"id\"])\n",
    "\n",
    "class_dict = {\n",
    "    \"'FA'\":5,\n",
    "    \"'AC'\":4,\n",
    "    \"'GA'\":3,\n",
    "    \"'BC'\":2,\n",
    "    \"'ST'\":1,\n",
    "    \"'SB'\":0\n",
    "}\n",
    "\n",
    "df[\"realClass\"] = df[\"realClass\"].apply(lambda x: class_dict[x])\n",
    "\n",
    "df_treino = df.sample(frac=0.8, random_state=1)\n",
    "df_data_to_predict = df.drop(df_treino.index)"
   ]
  },
  {
   "cell_type": "markdown",
   "metadata": {},
   "source": [
    "4. **Criação do modelo e avaliação** dos modelos: agora, você deverá avaliar 4 modelos de aprendizado de máquina nessa tarefa. Use os métodos SVM com kernel linear e RBF, KNN e árvore de decisão. Deixe os parametros padrão de cada algoritmo. Por meio do método eval da classe Fold, avalie o método. Apresente a matriz de confusão resultante de cada um desses métodos além das métricas macro f1, precisão e revocação por classe. Também verifique  quão sensível são os resultados se mudarmos o parametro `random_seed`. Você pode criar mais de um bloco de código/texto para isso organizando da forma que julgar melhor. \n",
    "\n",
    "    <ul>\n",
    "        <li><a href=\"https://scikit-learn.org/stable/modules/generated/sklearn.svm.SVC.html#sklearn.svm.SVC\">SVM</a></li>\n",
    "        <li><a href=\"https://scikit-learn.org/stable/modules/generated/sklearn.neighbors.KNeighborsClassifier.html\">KNN</a></li>\n",
    "    <li><a href=\"https://scikit-learn.org/stable/modules/generated/sklearn.tree.DecisionTreeClassifier.html\">Árvore de decisão</a></li>\n",
    "    </ul>\n"
   ]
  },
  {
   "cell_type": "code",
   "execution_count": 2,
   "metadata": {},
   "outputs": [],
   "source": [
    "from sklearn.tree import DecisionTreeClassifier\n",
    "from sklearn.svm import SVC\n",
    "from sklearn.neighbors import KNeighborsClassifier\n",
    "\n",
    "from resultado import Fold, Resultado\n",
    "\n",
    "col_classe = \"realClass\"\n",
    "fold = Fold(df_treino,df_data_to_predict,col_classe)\n",
    "\n",
    "svm_method = SVC(gamma='auto')\n",
    "knn_method = KNeighborsClassifier(n_neighbors=3)\n",
    "tree_method = DecisionTreeClassifier(random_state=1)\n",
    "\n",
    "\n",
    "svm_result = fold.eval(svm_method)\n",
    "knn_result = fold.eval(knn_method)\n",
    "tree_result = fold.eval(tree_method)"
   ]
  },
  {
   "cell_type": "code",
   "execution_count": null,
   "metadata": {},
   "outputs": [],
   "source": []
  },
  {
   "cell_type": "code",
   "execution_count": 3,
   "metadata": {},
   "outputs": [
    {
     "name": "stdout",
     "output_type": "stream",
     "text": [
      "positives\n",
      "[False False False False False  True]\n",
      "positives\n",
      "[ True  True  True  True  True  True]\n",
      "positives\n",
      "[ True  True  True  True  True  True]\n"
     ]
    },
    {
     "name": "stderr",
     "output_type": "stream",
     "text": [
      "/home/ana/Documents/tcc-web-crawler/wikipedia_dataset_hasan/resultado.py:82: UndefinedMetricWarning: divisão por zero no cálculo da precisão\n",
      "  warnings.warn(\"divisão por zero no cálculo da precisão\", UndefinedMetricWarning)\n"
     ]
    },
    {
     "data": {
      "text/html": [
       "<div>\n",
       "<style scoped>\n",
       "    .dataframe tbody tr th:only-of-type {\n",
       "        vertical-align: middle;\n",
       "    }\n",
       "\n",
       "    .dataframe tbody tr th {\n",
       "        vertical-align: top;\n",
       "    }\n",
       "\n",
       "    .dataframe thead th {\n",
       "        text-align: right;\n",
       "    }\n",
       "</style>\n",
       "<table border=\"1\" class=\"dataframe\">\n",
       "  <thead>\n",
       "    <tr style=\"text-align: right;\">\n",
       "      <th></th>\n",
       "      <th>Acurácia</th>\n",
       "      <th>Macro F1</th>\n",
       "    </tr>\n",
       "  </thead>\n",
       "  <tbody>\n",
       "    <tr>\n",
       "      <td>SVM</td>\n",
       "      <td>0.154780</td>\n",
       "      <td>0.268068</td>\n",
       "    </tr>\n",
       "    <tr>\n",
       "      <td>KNN</td>\n",
       "      <td>0.444613</td>\n",
       "      <td>0.429839</td>\n",
       "    </tr>\n",
       "    <tr>\n",
       "      <td>Tree</td>\n",
       "      <td>0.474962</td>\n",
       "      <td>0.472755</td>\n",
       "    </tr>\n",
       "  </tbody>\n",
       "</table>\n",
       "</div>"
      ],
      "text/plain": [
       "      Acurácia  Macro F1\n",
       "SVM   0.154780  0.268068\n",
       "KNN   0.444613  0.429839\n",
       "Tree  0.474962  0.472755"
      ]
     },
     "execution_count": 3,
     "metadata": {},
     "output_type": "execute_result"
    }
   ],
   "source": [
    "pd.DataFrame([\n",
    "                [svm_result.acuracia, svm_result.macro_f1],\n",
    "                [knn_result.acuracia, knn_result.macro_f1],\n",
    "                [tree_result.acuracia, tree_result.macro_f1]\n",
    "             ],\n",
    "             columns = ['Acurácia', 'Macro F1'], \n",
    "             index = ['SVM', 'KNN', 'Tree'])\n"
   ]
  },
  {
   "cell_type": "code",
   "execution_count": 4,
   "metadata": {},
   "outputs": [
    {
     "data": {
      "text/plain": [
       "array([[  0.,   0.,   0.,   0.,   0., 112.],\n",
       "       [  0.,   0.,   0.,   0.,   0., 116.],\n",
       "       [  0.,   0.,   0.,   0.,   0., 102.],\n",
       "       [  0.,   0.,   0.,   0.,   0., 111.],\n",
       "       [  0.,   0.,   0.,   0.,   0., 116.],\n",
       "       [  0.,   0.,   0.,   0.,   0., 102.]])"
      ]
     },
     "execution_count": 4,
     "metadata": {},
     "output_type": "execute_result"
    }
   ],
   "source": [
    "svm_result.mat_confusao"
   ]
  },
  {
   "cell_type": "code",
   "execution_count": 5,
   "metadata": {},
   "outputs": [
    {
     "data": {
      "text/html": [
       "<div>\n",
       "<style scoped>\n",
       "    .dataframe tbody tr th:only-of-type {\n",
       "        vertical-align: middle;\n",
       "    }\n",
       "\n",
       "    .dataframe tbody tr th {\n",
       "        vertical-align: top;\n",
       "    }\n",
       "\n",
       "    .dataframe thead th {\n",
       "        text-align: right;\n",
       "    }\n",
       "</style>\n",
       "<table border=\"1\" class=\"dataframe\">\n",
       "  <thead>\n",
       "    <tr style=\"text-align: right;\">\n",
       "      <th></th>\n",
       "      <th>SB</th>\n",
       "      <th>ST</th>\n",
       "      <th>BC</th>\n",
       "      <th>GA</th>\n",
       "      <th>AC</th>\n",
       "      <th>FA</th>\n",
       "    </tr>\n",
       "  </thead>\n",
       "  <tbody>\n",
       "    <tr>\n",
       "      <td>SVM</td>\n",
       "      <td>0.000000</td>\n",
       "      <td>0.000000</td>\n",
       "      <td>0.000000</td>\n",
       "      <td>0.00000</td>\n",
       "      <td>0.000000</td>\n",
       "      <td>0.154780</td>\n",
       "    </tr>\n",
       "    <tr>\n",
       "      <td>KNN</td>\n",
       "      <td>0.765625</td>\n",
       "      <td>0.442857</td>\n",
       "      <td>0.309735</td>\n",
       "      <td>0.32800</td>\n",
       "      <td>0.350877</td>\n",
       "      <td>0.385417</td>\n",
       "    </tr>\n",
       "    <tr>\n",
       "      <td>Tree</td>\n",
       "      <td>0.724138</td>\n",
       "      <td>0.518182</td>\n",
       "      <td>0.385965</td>\n",
       "      <td>0.47191</td>\n",
       "      <td>0.324074</td>\n",
       "      <td>0.418033</td>\n",
       "    </tr>\n",
       "  </tbody>\n",
       "</table>\n",
       "</div>"
      ],
      "text/plain": [
       "            SB        ST        BC       GA        AC        FA\n",
       "SVM   0.000000  0.000000  0.000000  0.00000  0.000000  0.154780\n",
       "KNN   0.765625  0.442857  0.309735  0.32800  0.350877  0.385417\n",
       "Tree  0.724138  0.518182  0.385965  0.47191  0.324074  0.418033"
      ]
     },
     "execution_count": 5,
     "metadata": {},
     "output_type": "execute_result"
    }
   ],
   "source": [
    "pd.DataFrame([\n",
    "                svm_result.precisao,\n",
    "                knn_result.precisao,\n",
    "                tree_result.precisao\n",
    "             ],\n",
    "             columns = ['SB', 'ST', 'BC', 'GA', 'AC', 'FA'],\n",
    "             index = ['SVM', 'KNN', 'Tree'])"
   ]
  },
  {
   "cell_type": "code",
   "execution_count": 6,
   "metadata": {},
   "outputs": [
    {
     "data": {
      "text/html": [
       "<div>\n",
       "<style scoped>\n",
       "    .dataframe tbody tr th:only-of-type {\n",
       "        vertical-align: middle;\n",
       "    }\n",
       "\n",
       "    .dataframe tbody tr th {\n",
       "        vertical-align: top;\n",
       "    }\n",
       "\n",
       "    .dataframe thead th {\n",
       "        text-align: right;\n",
       "    }\n",
       "</style>\n",
       "<table border=\"1\" class=\"dataframe\">\n",
       "  <thead>\n",
       "    <tr style=\"text-align: right;\">\n",
       "      <th></th>\n",
       "      <th>SB</th>\n",
       "      <th>ST</th>\n",
       "      <th>BC</th>\n",
       "      <th>GA</th>\n",
       "      <th>AC</th>\n",
       "      <th>FA</th>\n",
       "    </tr>\n",
       "  </thead>\n",
       "  <tbody>\n",
       "    <tr>\n",
       "      <td>SVM</td>\n",
       "      <td>0.000</td>\n",
       "      <td>0.000000</td>\n",
       "      <td>0.000000</td>\n",
       "      <td>0.000000</td>\n",
       "      <td>0.000000</td>\n",
       "      <td>1.000000</td>\n",
       "    </tr>\n",
       "    <tr>\n",
       "      <td>KNN</td>\n",
       "      <td>0.875</td>\n",
       "      <td>0.534483</td>\n",
       "      <td>0.343137</td>\n",
       "      <td>0.369369</td>\n",
       "      <td>0.172414</td>\n",
       "      <td>0.362745</td>\n",
       "    </tr>\n",
       "    <tr>\n",
       "      <td>Tree</td>\n",
       "      <td>0.750</td>\n",
       "      <td>0.491379</td>\n",
       "      <td>0.431373</td>\n",
       "      <td>0.378378</td>\n",
       "      <td>0.301724</td>\n",
       "      <td>0.500000</td>\n",
       "    </tr>\n",
       "  </tbody>\n",
       "</table>\n",
       "</div>"
      ],
      "text/plain": [
       "         SB        ST        BC        GA        AC        FA\n",
       "SVM   0.000  0.000000  0.000000  0.000000  0.000000  1.000000\n",
       "KNN   0.875  0.534483  0.343137  0.369369  0.172414  0.362745\n",
       "Tree  0.750  0.491379  0.431373  0.378378  0.301724  0.500000"
      ]
     },
     "execution_count": 6,
     "metadata": {},
     "output_type": "execute_result"
    }
   ],
   "source": [
    "pd.DataFrame([\n",
    "                svm_result.revocacao,\n",
    "                knn_result.revocacao,\n",
    "                tree_result.revocacao\n",
    "             ],\n",
    "             columns = ['SB', 'ST', 'BC', 'GA', 'AC', 'FA'],\n",
    "             index = ['SVM', 'KNN', 'Tree'])"
   ]
  },
  {
   "cell_type": "markdown",
   "metadata": {},
   "source": [
    "5. **Conclusões:** Escreva um texto com uma análise e conclusão dos resultados, por exemplo: quais são as classes mais dificieis/fácieis de prever? Quais se confundem mais? Qual é o melhor método de classificação?"
   ]
  },
  {
   "cell_type": "markdown",
   "metadata": {},
   "source": [
    "O melhor método para a classificação foi a árvore de decisão que obteve tanto acurácia quanto macro F1 mais altos. \n",
    "No método de classificação de árvore binária as classes brikface, sky e grass obtiveram revocacao de 1, indicando que todos as imagens dessas classes foram classificadas corretamente. A precisão das classes para este método também foram ótimos, todos acima de 0.86, indicando que a predição foi bem acertiva.\n",
    "\n",
    "Embora o SVM tenha contado com precisão 1 para 6 classes, que significa que todas as imagens classificadas dessas classes foram classificadas corretamente, a precisão da classe cement foi muito baixa. Isso significa que muitas imagens de outras classes foram preditas erroneamente como sendo cement. Isso fica bastante claro nas métricas de revocação em que apenas a classe cement atinge 1 enquanto as outras classes estão abaixo de 0.6."
   ]
  }
 ],
 "metadata": {
  "kernelspec": {
   "display_name": "Python 3",
   "language": "python",
   "name": "python3"
  },
  "language_info": {
   "codemirror_mode": {
    "name": "ipython",
    "version": 3
   },
   "file_extension": ".py",
   "mimetype": "text/x-python",
   "name": "python",
   "nbconvert_exporter": "python",
   "pygments_lexer": "ipython3",
   "version": "3.7.4"
  }
 },
 "nbformat": 4,
 "nbformat_minor": 2
}
