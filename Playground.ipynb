{
 "cells": [
  {
   "cell_type": "markdown",
   "metadata": {},
   "source": [
    "# Análise final da coleta ;D\n",
    "\n",
    "Dados Coletados : metadados e categoria :D"
   ]
  },
  {
   "cell_type": "code",
   "execution_count": 3,
   "metadata": {},
   "outputs": [],
   "source": [
    "import pandas as pd\n",
    "hasan_ = pd.read_csv('wikipedia_dataset_hasan/wikipedia_old.csv')\n",
    "hasan = set(hasan_[\"page_title\"])"
   ]
  },
  {
   "cell_type": "code",
   "execution_count": 26,
   "metadata": {},
   "outputs": [
    {
     "name": "stdout",
     "output_type": "stream",
     "text": [
      "2998\n"
     ]
    }
   ],
   "source": [
    "base_folder = \"~/Documents/tcc-collected-data/data\"\n",
    "dataset_folder = f\"{base_folder}/info_and_category_200701-200901/data\" \n",
    "infos = !ls ~/Documents/tcc-collected-data/data/info_and_category_200701-200901/data\n",
    "\n",
    "print(len(infos))"
   ]
  },
  {
   "cell_type": "code",
   "execution_count": 5,
   "metadata": {},
   "outputs": [
    {
     "data": {
      "text/plain": [
       "2839"
      ]
     },
     "execution_count": 5,
     "metadata": {},
     "output_type": "execute_result"
    }
   ],
   "source": [
    "content_folder = f\"{base_folder}/content_200701-200901-errors\" \n",
    "contents = !ls ~/Documents/tcc-collected-data/data/content_200701-200901-errors/data\n",
    "cont = set([x.split(\"|\")[0] for x in contents])\n",
    "len(cont)"
   ]
  },
  {
   "cell_type": "code",
   "execution_count": 6,
   "metadata": {},
   "outputs": [
    {
     "data": {
      "text/plain": [
       "34"
      ]
     },
     "execution_count": 6,
     "metadata": {},
     "output_type": "execute_result"
    }
   ],
   "source": [
    "content_folder = f\"{base_folder}/content_200701-200901-by_id\" \n",
    "contents = !ls ~/Documents/tcc-collected-data/data/content_info_by_id200701-200901-errors/data\n",
    "cont_id = set([x.split(\"|\")[0] for x in contents])\n",
    "len(cont_id)"
   ]
  },
  {
   "cell_type": "code",
   "execution_count": 10,
   "metadata": {},
   "outputs": [],
   "source": [
    "cont_t = cont_id | cont"
   ]
  },
  {
   "cell_type": "code",
   "execution_count": 24,
   "metadata": {},
   "outputs": [
    {
     "data": {
      "text/plain": [
       "327"
      ]
     },
     "execution_count": 24,
     "metadata": {},
     "output_type": "execute_result"
    }
   ],
   "source": [
    "dif1 = hasan - set(infos)\n",
    "len(dif1)"
   ]
  },
  {
   "cell_type": "code",
   "execution_count": null,
   "metadata": {},
   "outputs": [],
   "source": [
    "dataset= dataset[dataset.page_title.isin(titles_not_found)]\n",
    "list(dataset[\"page_id\"])"
   ]
  },
  {
   "cell_type": "code",
   "execution_count": null,
   "metadata": {},
   "outputs": [],
   "source": [
    "import pandas as pd\n",
    "i = 0\n",
    "df1 = pd.read_csv(f\"{dataset_folder}/{titles[i]}\")\n"
   ]
  },
  {
   "cell_type": "code",
   "execution_count": null,
   "metadata": {},
   "outputs": [],
   "source": [
    "i -= 1\n",
    "i"
   ]
  },
  {
   "cell_type": "code",
   "execution_count": null,
   "metadata": {},
   "outputs": [],
   "source": [
    "i += 1\n",
    "df1 = pd.read_csv(f\"{dataset_folder}/{titles[i]}\")\n",
    "print(titles[i])\n",
    "df1[[\"access\", \"category\", \"raw_category\"]]\n"
   ]
  },
  {
   "cell_type": "code",
   "execution_count": null,
   "metadata": {},
   "outputs": [],
   "source": [
    "import requests\n",
    "\n",
    "S = requests.Session()\n",
    "URL = \"https://en.wikipedia.org/w/api.php\"\n",
    "#title = titles[0]\n",
    "\n",
    "params = {\n",
    "        \"action\": \"query\",\n",
    "        \"prop\": \"revisions\",\n",
    "        \"titles\": \"Prostitution in the People's Republic of China\",\n",
    "        \"rvprop\": \"ids\",\n",
    "        \"rvslots\": \"main\",\n",
    "        \"formatversion\": \"2\",\n",
    "        \"format\": \"json\",\n",
    "        \"rvlimit\": 1,\n",
    "        \"rvstart\": '2008-12-19T16:51:08Z',\n",
    "        \"rvdir\": \"older\",\n",
    "    }\n",
    "\n",
    "response = S.get(url=URL, params=params).json()\n",
    "response"
   ]
  }
 ],
 "metadata": {
  "kernelspec": {
   "display_name": "Python 3",
   "language": "python",
   "name": "python3"
  },
  "language_info": {
   "codemirror_mode": {
    "name": "ipython",
    "version": 3
   },
   "file_extension": ".py",
   "mimetype": "text/x-python",
   "name": "python",
   "nbconvert_exporter": "python",
   "pygments_lexer": "ipython3",
   "version": "3.7.4"
  }
 },
 "nbformat": 4,
 "nbformat_minor": 2
}
